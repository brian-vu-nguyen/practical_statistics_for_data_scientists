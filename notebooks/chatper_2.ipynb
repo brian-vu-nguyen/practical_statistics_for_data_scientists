{
 "cells": [
  {
   "cell_type": "markdown",
   "id": "5c2f0a91",
   "metadata": {},
   "source": [
    "# Chapter 2. Data and Sampling Distributions"
   ]
  },
  {
   "cell_type": "markdown",
   "id": "d79cdc27",
   "metadata": {},
   "source": [
    "## Random Sampling and Sample Bias"
   ]
  },
  {
   "cell_type": "markdown",
   "id": "7de0176f",
   "metadata": {},
   "source": [
    "Sample = a subset of data from the population (a larger data set)\n",
    "\n",
    "Random Sampling = a process in which each available member of the population being sampled has an equal chance of being chosen for the sample at each draw. The sample that results is called a *simple random sample*. Sampling can be done with *replacement*, in which observations are put back in the population after each draw for possible future reselection. Or it can be done without replacement, in which case observations, once selected, are unavailable for future draws.\n",
    "\n",
    "Example: We want to create a representative profile of customers and we need to conduct a pilot customer survey. The survey needs to be representative, but is labor intensive. \n",
    "1. First we need to define who a customer is. We might select all customers who purchased from us. Should we include all past customers? Do we include refunds? Internal test purchases? Resellers? Both billing agent and customer?\n",
    "2. Specify a sampling procedure, such as \"Select 100 customers at random\". Things to consider in this scenario: where a sampling from a flow is involved (e.g., real-time customer transactions or web visitors), timing considerations (e.g., a web visitor at 10 am on a weekday vs. a web visitor at 10 pm on a weekend.)\n"
   ]
  },
  {
   "cell_type": "markdown",
   "id": "c49152c7",
   "metadata": {},
   "source": [
    "Data quality > data quantity when making an estimate or a model based on a sample. Data quality in data science is the completeness, consistency in format, cleanliness, and accuracy of individual data points. Statistics adds the notion of *representativeness*. \n",
    "\n",
    "Bias = systematic error\n",
    "\n",
    "Sample bias = A sample that misrepresents the population"
   ]
  },
  {
   "cell_type": "markdown",
   "id": "4c19ce48",
   "metadata": {},
   "source": [
    "### Sample Mean Versus Population Mean\n",
    "\n",
    "$x$ (pronounced \"x-bar\") represents the mean of a sample from a population\n",
    "\n",
    "$u$ represents the mean of a population\n",
    "\n",
    "What's the difference? Information abotu samples is observed, and information about large populations is often inferred from smaller samples."
   ]
  },
  {
   "cell_type": "markdown",
   "id": "87cb5220",
   "metadata": {},
   "source": [
    "## Selection Bias"
   ]
  },
  {
   "cell_type": "markdown",
   "id": "246ed85a",
   "metadata": {},
   "source": [
    "### What is Selection Bias?\n",
    "\n",
    "*\"If you don't know what you're looking for, look hard enough and you'll find it.\"* - Yogi Berra\n",
    "\n",
    "Selection bias: bias resulting from the way in which observations are selected.\n",
    "\n",
    "Data snooping: extensive hunting through data in search of something interesting.\n",
    "\n",
    "Vast search effect: Bias or nonreproducibility resuling from repeated data modeling, or modeling data with large numbers of predictor variables.\n",
    "\n",
    "The vast search effect is a form of selection bias. If you repeatedly run different models and ask different questions with a large data set, you're bound to find something interesting. But is the result you found true, or is it by chance? \n",
    "* We can guard against this by using a holdout set, and sometimes more than one holdout set, against which to validate performance. We can use *target shuffling*(a permutation test) to test the validity of predictive associations that a data mining model suggests.\n",
    "\n",
    "Typical forms of selection bias:\n",
    "* vast search effect\n",
    "* non-random sampling\n",
    "* cherry-picking data\n",
    "* selection of time intervals that accentuate a particular statistical effect\n",
    "* stopping an experiment when the results look \"interesting\""
   ]
  },
  {
   "cell_type": "markdown",
   "id": "2d7f8060",
   "metadata": {},
   "source": [
    "### Regression to the Mean\n",
    "\n",
    "Regression to the mean is a phenomenon involving successive measurements on a given variable: extreme observations tend to be followed by more central ones. Attaching special focus and meaning to the extreme value can lead to a form of selection bias. An example of this would the \"rookie of the year\", followed by the \"sophomore slump\" phenomenon. Out of all the players who won \"rookie of the year\", how many of them have a successful sophomore year? Statisticians have found that most of these players' second year performance tends to regress towards the mean."
   ]
  },
  {
   "cell_type": "markdown",
   "id": "f7adaf94",
   "metadata": {},
   "source": [
    "## Sampling Distribution of a Statistic"
   ]
  },
  {
   "cell_type": "markdown",
   "id": "f3974d33",
   "metadata": {},
   "source": [
    "Sampling distribution of a statistic refers to the distribution of some sample statistic over many samples drawn from the same population.\n",
    "\n",
    "Much of classical statistics is concerned with making inferences from (small) samples to (very large) populations.\n",
    "\n",
    "A sample is drawn with the goal of measuring something (with a sample statistic) or modeling something (with a statistical or machine learning model). Since our estimate or model is based on a sample, it might be in error; it might be different if we drew a different sample. Therefore, we want to know how different it might be - *sampling variability*. If we had tons of data, we can draw additional samples and observe the distribution of a sample statistic. "
   ]
  },
  {
   "cell_type": "markdown",
   "id": "fd77b8b1",
   "metadata": {},
   "source": [
    "**Key terms**\n",
    "\n",
    "Data distribution: The frequency distribution of individual values in a data set.\n",
    "\n",
    "Sampling distribution: The frequency distribution of a sample statistic over many samples or resamples.\n",
    "\n",
    "Central limit theorem: The tendancy of the sampling distribution to take on a normal shape as sample size rises.\n",
    "\n",
    "Standard error: The variability (standard deviation) of a sample statistic over many samples (not to be confused with standard deviation, which by itself, refers to variability of individual data values)."
   ]
  },
  {
   "cell_type": "markdown",
   "id": "9d94f8f1",
   "metadata": {},
   "source": [
    "Below is a python code to demonstrate random sampling distribution:"
   ]
  },
  {
   "cell_type": "code",
   "execution_count": 15,
   "id": "09f3a5bd",
   "metadata": {},
   "outputs": [
    {
     "data": {
      "text/plain": [
       "0         67000\n",
       "1         52000\n",
       "2        100000\n",
       "3         78762\n",
       "4         37041\n",
       "          ...  \n",
       "49995     40000\n",
       "49996     54000\n",
       "49997     50000\n",
       "49998     82000\n",
       "49999     70000\n",
       "Name: x, Length: 50000, dtype: int64"
      ]
     },
     "execution_count": 15,
     "metadata": {},
     "output_type": "execute_result"
    }
   ],
   "source": [
    "import pandas as pd\n",
    "import numpy as np\n",
    "from scipy import stats\n",
    "from sklearn.utils import resample\n",
    "\n",
    "import seaborn as sns\n",
    "import matplotlib.pylab as plt\n",
    "\n",
    "loans_income = pd.read_csv('/Users/brian.v.nguyen/projects/practical_statistics_for_data_scientists/data/loans_income.csv').squeeze('columns')\n",
    "loans_income"
   ]
  },
  {
   "cell_type": "code",
   "execution_count": 17,
   "id": "d6a1ee4b",
   "metadata": {},
   "outputs": [
    {
     "data": {
      "text/plain": [
       "<seaborn.axisgrid.FacetGrid at 0x127194190>"
      ]
     },
     "execution_count": 17,
     "metadata": {},
     "output_type": "execute_result"
    },
    {
     "data": {
      "image/png": "[encoded data removed]",
      "text/plain": [
       "<Figure size 400x600 with 3 Axes>"
      ]
     },
     "metadata": {},
     "output_type": "display_data"
    }
   ],
   "source": [
    "# Getting a random sample of 1,000 individual data points from loans_income\n",
    "sample_data = pd.DataFrame({\n",
    "    'income': loans_income.sample(1000),\n",
    "    'type': 'Data',\n",
    "})\n",
    "\n",
    "# Getting a 1,000 samples with each sample containing 5 individual incomes\n",
    "# Then storing 1,000 records, each representing the mean of a sample of size 5\n",
    "sample_mean_05 = pd.DataFrame({\n",
    "    'income': [loans_income.sample(5).mean() for _ in range(1000)],\n",
    "    'type': 'Mean of 5',\n",
    "})\n",
    "\n",
    "# Getting a 1,000 samples with each sample containing 20 individual incomes\n",
    "# Then storing 1,000 records, each representing the mean of a sample of size 20\n",
    "sample_mean_20 = pd.DataFrame({\n",
    "    'income': [loans_income.sample(20).mean() for _ in range(1000)],\n",
    "    'type': 'Mean of 20',\n",
    "})\n",
    "\n",
    "results = pd.concat([sample_data, sample_mean_05, sample_mean_20])\n",
    "\n",
    "g = sns.FacetGrid(results, col='type',\n",
    "                  col_wrap=1,\n",
    "                  height=2,\n",
    "                  aspect=2)\n",
    "g.map(plt.hist, 'income', range=[0, 200000], bins=40)\n",
    "g.set_axis_labels('Income', 'Count')\n",
    "g.set_titles('{col_name}')"
   ]
  },
  {
   "cell_type": "markdown",
   "id": "db8d801f",
   "metadata": {},
   "source": [
    "**Key Concept**\n",
    "\n",
    "This demonstrates the Central Limit Theorem:\n",
    "* Regardless of the shape of the original data, the distribution of sample means becomes approximately normal as the sample size increases.\n",
    "* The larger the sample size, the less variability (i.e., the narrower the histogram)."
   ]
  },
  {
   "cell_type": "markdown",
   "id": "7f810e70",
   "metadata": {},
   "source": [
    "### Central Limit Theorem\n",
    "\n",
    "Central Limit Theroem says that means drawn from multiple samples will resemble a bell-shaped normal distribution, even if the source population is not normally distributed, provided that the sample size is large enough and the departure of the data from normality is not too great."
   ]
  },
  {
   "cell_type": "markdown",
   "id": "77e82383",
   "metadata": {},
   "source": [
    "### Standard Error\n",
    "\n",
    "Standard error is a single metric that sums up the variability in the sampling distribution for a statistic. "
   ]
  },
  {
   "cell_type": "markdown",
   "id": "db28eea4",
   "metadata": {},
   "source": [
    "The standard error can be estimated using a statistic based on the standard deviation $s$ of the sample values, and the sample size $n$:\n",
    "\n",
    "$ \\text{Standard error} = SE = \\frac{s}{\\sqrt{n}} $\n",
    "\n",
    "As sample size increases, the standard error decreases (as shown graph of income). The relationship between standard error and sample size is sometimes referred to as the square root of n rule: to reduce the standard error by a factor of 2, the sample size must be increased by a factor of 4."
   ]
  },
  {
   "cell_type": "markdown",
   "id": "4e8c2152",
   "metadata": {},
   "source": [
    "#### Example: Square root of n rule"
   ]
  },
  {
   "cell_type": "markdown",
   "id": "95f00bdf",
   "metadata": {},
   "source": [
    "Square root of n rule example:\n",
    "\n",
    "You start with the standard error formula:\n",
    "\n",
    "$$\n",
    "SE = \\frac{s}{\\sqrt{n}}\n",
    "$$\n",
    "\n",
    "You’re trying to **reduce the standard error by a factor of 2**, meaning:\n",
    "\n",
    "$$\n",
    "\\text{New SE} = \\frac{SE}{2}\n",
    "$$\n",
    "\n",
    "---\n",
    "\n",
    "**Step 1: Set up the equation**\n",
    "\n",
    "Let’s define:\n",
    "\n",
    "* $s$: sample standard deviation (assumed constant)\n",
    "* $n$: original sample size\n",
    "* $n'$: new sample size\n",
    "* $SE$: original standard error = $\\frac{s}{\\sqrt{n}}$\n",
    "* $SE'$: new standard error = $\\frac{s}{\\sqrt{n'}}$\n",
    "\n",
    "You want:\n",
    "\n",
    "$$\n",
    "SE' = \\frac{SE}{2}\n",
    "\\Rightarrow \\frac{s}{\\sqrt{n'}} = \\frac{1}{2} \\cdot \\frac{s}{\\sqrt{n}}\n",
    "$$\n",
    "\n",
    "---\n",
    "\n",
    "**Step 2: Cancel out common terms**\n",
    "\n",
    "Since $s$ appears on both sides, you can cancel it:\n",
    "\n",
    "$$\n",
    "\\frac{1}{\\sqrt{n'}} = \\frac{1}{2\\sqrt{n}}\n",
    "$$\n",
    "\n",
    "---\n",
    "\n",
    "**Step 3: Solve for $n'$**\n",
    "\n",
    "Multiply both sides by $\\sqrt{n'}$:\n",
    "\n",
    "$$\n",
    "1 = \\frac{\\sqrt{n'}}{2\\sqrt{n}}\n",
    "$$\n",
    "\n",
    "Multiply both sides by $2\\sqrt{n}$:\n",
    "\n",
    "$$\n",
    "2\\sqrt{n} = \\sqrt{n'}\n",
    "$$\n",
    "\n",
    "Now square both sides:\n",
    "\n",
    "$$\n",
    "(2\\sqrt{n})^2 = n' \\Rightarrow 4n = n'\n",
    "$$\n",
    "\n",
    "---\n",
    "\n",
    "**✅ Final Answer:**\n",
    "\n",
    "To reduce standard error by a factor of 2, you must **increase sample size by a factor of 4**:\n",
    "\n",
    "$$\n",
    "n' = 4n\n",
    "$$\n",
    "\n",
    "So if your original sample size was $n = 25$, then:\n",
    "\n",
    "$$\n",
    "n' = 4 \\cdot 25 = 100\n",
    "$$\n",
    "\n",
    "And that’s how we got the new sample size of 100.\n"
   ]
  },
  {
   "cell_type": "markdown",
   "id": "7115febf",
   "metadata": {},
   "source": [
    ">In modern statistics, the bootstrap has become the standard way to estimate standard error. It can be used for virtually any statistic and does not relay on the central limit theorem or other distributional assumptions."
   ]
  },
  {
   "cell_type": "markdown",
   "id": "9589ef0c",
   "metadata": {},
   "source": [
    "**Key Ideas**\n",
    "\n",
    "* The frequency distribution of a sample statistic tells us how that metric would turn out differently from sample to sample\n",
    "* This sampling distribution can be estimated via the bootstrap, or via formulas that rely on the central limit theorem.\n",
    "* A key metric that sums up the variability of a sample statistic is its standard error."
   ]
  },
  {
   "cell_type": "markdown",
   "id": "eb69b31e",
   "metadata": {},
   "source": [
    "## The Bootstrap"
   ]
  },
  {
   "cell_type": "markdown",
   "id": "4580fdb4",
   "metadata": {},
   "source": [
    "### What is bootstrap?"
   ]
  },
  {
   "cell_type": "markdown",
   "id": "d3ccdb88",
   "metadata": {},
   "source": [
    "Key terms for the Bootstrap\n",
    "\n",
    "* Bootstrap sample: a sample taken with replacement from an observed data set\n",
    "* Resampling: the process of taking repeated samples from observed data; includes both bootstrap and permutation (shuffling) procedures."
   ]
  },
  {
   "cell_type": "markdown",
   "id": "66be48de",
   "metadata": {},
   "source": [
    "The Bootstrap method is an easy and effective way to estimate the sampling of a statistic, or of a model parameters. You draw additional samples, with replacement, from the sample itself and recalculate teh statistic or model for each sample.\n",
    "* Does not involve assumptions about the data or the sample statistic being normally distributed"
   ]
  },
  {
   "cell_type": "markdown",
   "id": "8df2e4ae",
   "metadata": {},
   "source": [
    "**How the Bootstrap Algorithm Works**\n",
    "\n",
    "In practice, we simply replace each observation after each draw i.e. we sample with replacement. We effectively create an infinite population in which the probability of an element being drawn remains unchanged from draw to draw. \n",
    "\n",
    "The algorithm for a bootstrap resamplling of the mean, for a sample size of n, is as follows:\n",
    "1. Draw a sample value, record it, and then replace it.\n",
    "2. Repeat $n$ times.\n",
    "3. Record the mean of the $n$ resampled values.\n",
    "4. Repeat steps 1-3 $R$ times.\n",
    "5. The $R$ results to:\n",
    "    - Calculate their standard deviation (this estimates sample mean standard error)\n",
    "    - Produce a histogram or boxplot\n",
    "    - Find a confidence interval\n",
    "\n",
    "$R$, the number of iterations, is arbitrary. The more iterations you do, the more accurate the estimate of the standard error, or the confidence interval. The result is a bootstrap set of sample statistics or estimated model parameters, which you can examine to see how variable they are."
   ]
  },
  {
   "cell_type": "markdown",
   "id": "e0eff559",
   "metadata": {},
   "source": [
    "**Python Example**\n",
    "\n",
    "The following applies the bootstrap to the incomes of people taking out loans. To implement this in Python, we use the scikit-learn resample method:"
   ]
  },
  {
   "cell_type": "code",
   "execution_count": 20,
   "id": "db8b9586",
   "metadata": {},
   "outputs": [
    {
     "name": "stdout",
     "output_type": "stream",
     "text": [
      "Bootstrap Statistics:\n",
      "original: 62000.0\n",
      "bias: -73.9429999999993\n",
      "std. error: 213.01052493887414\n"
     ]
    }
   ],
   "source": [
    "results = []\n",
    "\n",
    "for nrepeat in range(1000):\n",
    "    sample = resample(loans_income)\n",
    "    results.append(sample.median())\n",
    "results = pd.Series(results)\n",
    "print('Bootstrap Statistics:')\n",
    "print(f'original: {loans_income.median()}')\n",
    "print(f'bias: {results.mean() - loans_income.median()}')\n",
    "print(f'std. error: {results.std()}')"
   ]
  },
  {
   "cell_type": "markdown",
   "id": "05ab5f70",
   "metadata": {},
   "source": [
    "Interpretation:\n",
    "- The original estimate of the median is $62,000\n",
    "- The estimate has a bias of about -$74 and a standard error of $213\n",
    "\n",
    "The results will vary slightly between consecutive runs of the algorithm."
   ]
  },
  {
   "cell_type": "markdown",
   "id": "4eb1a280",
   "metadata": {},
   "source": [
    "**Bootstrapping Use Case**\n",
    "\n",
    "Can be used with multivariate data, where rows are sampled as units. A model can be run on the bootstrapped data, for example, to estimate the stability (variability) of model parameters, or to improve predictive power. With classification and regression trees (or decision trees), running multiple trees on bootstrap samples and then averaging their predictions (or, with classification, taking a majority vote) generally performs better than using a single tree. This process is called *bagging* (short for *\"bootstrap aggregating\"*)\n",
    "\n",
    "Bootstrapping can also be used for sample size determination; experiment with different values for $n$ to see how the sampling distribution is affected."
   ]
  },
  {
   "cell_type": "markdown",
   "id": "6c17f7f7",
   "metadata": {},
   "source": [
    "### Resampling vs Bootstrapping"
   ]
  },
  {
   "cell_type": "markdown",
   "id": "6276c6cb",
   "metadata": {},
   "source": [
    "The term resampling is used synonymously with the term bootstrapping. Resampling can also be a permutation test, where multiple samples are combined and the sampling may be done without replacement. \n",
    "\n",
    "In any case, the term bootstrap always implies sampling with replacement from an observed data set."
   ]
  },
  {
   "cell_type": "markdown",
   "id": "2d515944",
   "metadata": {},
   "source": [
    "**Key Takeaways**\n",
    "\n",
    "* The bootstrap (sampling with replacement from a data set) is a powerful tool for assessing the variability of a sample statistic.\n",
    "* The bootstrap can be applied in similar fashion in a wide variety of circumstances, without extensive study of mathematical approximations to sampling distributions.\n",
    "* It also allows us to estimate sampling distributions for statistics where no mathematical approximation has been developed.\n",
    "* When applied to predictive models, aggregating multiple bootstrap sample predictions (bagging) outperforms the use of a single model."
   ]
  },
  {
   "cell_type": "markdown",
   "id": "b14446c0",
   "metadata": {},
   "source": [
    "## Confidence Intervals\n",
    "\n",
    "Frequency tables, histograms, boxplots, and standard errors help understand the potential error in a sample estimate. Confidence intervals are another."
   ]
  },
  {
   "cell_type": "markdown",
   "id": "f10043fc",
   "metadata": {},
   "source": [
    "**Key Terms for Confidence Intervals**\n",
    "\n",
    "- Confidence level: the percentage of confidence intervals, constructed in the same way from the same population, that are expected to contain the statistic of interest.\n",
    "\n",
    "- Interval endpoints: The top and bottom of the confidence interval."
   ]
  },
  {
   "cell_type": "markdown",
   "id": "1aad62f9",
   "metadata": {},
   "source": [
    "**Bootstrap Confidence Interval Algorithm**\n",
    "\n",
    "Given a sample of size $n$, and a sample statistic of interest, the algorithm is as follows:\n",
    "\n",
    "1. Draw a random sample of size $n$ with replacement from the data (a resample)\n",
    "2. Record the statistic of interest for the resample\n",
    "3. Repeat steps 1-2 many ($R$) times.\n",
    "4. For an $x$% confidence interval, trim [(100-x)/2]% of the $R$ sample results from either end of the distribution.\n",
    "5. The trim points are the endpoints of an $x$% bootstrap confidence interval."
   ]
  },
  {
   "cell_type": "markdown",
   "id": "7b56ecc7",
   "metadata": {},
   "source": [
    "**Confidence Level**\n",
    "\n",
    "- Level of confidence: the percentage associated with the confidence interval\n",
    "- The higher the level of confidence, the wider the interval.\n",
    "- Also, the smaller the sample, the wider the interval.\n",
    "\n",
    "> Data scientists would likely use the level of confidence to communicate the potential error in an estimate, and perhaps to learn whether a larger sample is needed."
   ]
  },
  {
   "cell_type": "markdown",
   "id": "08142de0",
   "metadata": {},
   "source": [
    "**Key Takeaways**\n",
    "\n",
    "* Confidence intervals are the typical way to present estimates as an interval range.\n",
    "* The more data you have, the less variable a sample estimate will be.\n",
    "* The lower the level of confidence you can tolerate, the narrower the confidence interval will be.\n",
    "* The bootstrap is an effective way to construct confidence intervals."
   ]
  },
  {
   "cell_type": "markdown",
   "id": "ebbeb1ca",
   "metadata": {},
   "source": [
    "## Normal Distribution"
   ]
  },
  {
   "cell_type": "markdown",
   "id": "1e1cb05d",
   "metadata": {},
   "source": [
    "**Key Terms for Normal Distribution**\n",
    "\n",
    "- Error: the difference between a data point and a predicted or average value\n",
    "- Standardize: subtract the mean and divide the standard deviation\n",
    "- z-score: the result of standardizing an individual data point\n",
    "- Standard Normal: a normal distribution with mean = 0 and standard deviation = 1\n",
    "- QQ-Plot: a plot to visualize how close a sample distribution is to a specified distribution, e.g., the normal distribution."
   ]
  },
  {
   "cell_type": "markdown",
   "id": "c20084ab",
   "metadata": {},
   "source": [
    "What is a Normal Distribution?\n",
    "\n",
    "- Bell-shaped\n",
    "- 68% of the data lies within one standard deviation of the mean\n",
    "- 95% lies within two standard deviations"
   ]
  },
  {
   "cell_type": "markdown",
   "id": "cca640d1",
   "metadata": {},
   "source": [
    "Misconceptions\n",
    "- Most raw data are *not* normally distributed\n",
    "- The utility of the normal distribution derives from the fact that many statistics *are* normally distributed in their sampling distribution.\n",
    "- Assumptions of normality are generally a last resort, used when empirical probability distributions, or bootstrap distributions, are not available."
   ]
  },
  {
   "cell_type": "markdown",
   "id": "91cfc145",
   "metadata": {},
   "source": [
    "### Standard Normal and QQ-Plots"
   ]
  },
  {
   "cell_type": "markdown",
   "id": "a7047509",
   "metadata": {},
   "source": [
    "**Standard Normal Distribution**\n",
    "\n",
    "- where the units on the x-axis are expressed in terms of standard deviations away from the mean. \n",
    "- To compare data to a standard normal distribution, you subtract the mean and then divide by the standard deviation\n",
    "- Also called *normalization* or *standardization*\n",
    "- The transformed value is called a *z-score*, and the normal distribution is sometimes called the *z-distribution*\n",
    "- This is unrelated to database record standardization (conversion to a common format)"
   ]
  },
  {
   "cell_type": "markdown",
   "id": "7754979b",
   "metadata": {},
   "source": [
    "**QQ-Plots**\n",
    "\n",
    "- Used to visually determine how close a sample is to a specified distribution - in this case, the normal distribution\n",
    "- It orders the z-scores from low to high and plots each value's z-score on the y-axis; the x-axis is the corresponding quantile of a normal distribution for that value's rank\n",
    "- Since data is normalized, the units correspond to the number of standard deviations away from the mean\n",
    "- if the points fall on the diagonal line, the sample distributions can be considered close to normal"
   ]
  },
  {
   "cell_type": "markdown",
   "id": "fcbe99f9",
   "metadata": {},
   "source": [
    "Below shows a QQ-Plot for a sample of 100 values randomly generated from a normal distribution. In Python, use the method scipy.stats.probplot to create the QQ-Plot:"
   ]
  },
  {
   "cell_type": "code",
   "execution_count": 22,
   "id": "f9886e3b",
   "metadata": {},
   "outputs": [
    {
     "data": {
      "text/plain": [
       "((array([-2.46203784, -2.12570747, -1.93122778, -1.79044653, -1.67819304,\n",
       "         -1.58381122, -1.50174123, -1.42869743, -1.36256869, -1.30191411,\n",
       "         -1.24570419, -1.19317644, -1.14374949, -1.09696931, -1.05247413,\n",
       "         -1.00997067, -0.96921765, -0.93001393, -0.89218993, -0.85560121,\n",
       "         -0.82012357, -0.78564937, -0.75208458, -0.71934648, -0.68736185,\n",
       "         -0.65606548, -0.62539893, -0.59530962, -0.56574992, -0.53667655,\n",
       "         -0.50804994, -0.47983378, -0.45199463, -0.42450149, -0.39732558,\n",
       "         -0.37044003, -0.34381966, -0.31744076, -0.29128096, -0.26531902,\n",
       "         -0.23953472, -0.21390872, -0.18842244, -0.16305799, -0.13779803,\n",
       "         -0.1126257 , -0.08752455, -0.06247843, -0.03747145, -0.01248789,\n",
       "          0.01248789,  0.03747145,  0.06247843,  0.08752455,  0.1126257 ,\n",
       "          0.13779803,  0.16305799,  0.18842244,  0.21390872,  0.23953472,\n",
       "          0.26531902,  0.29128096,  0.31744076,  0.34381966,  0.37044003,\n",
       "          0.39732558,  0.42450149,  0.45199463,  0.47983378,  0.50804994,\n",
       "          0.53667655,  0.56574992,  0.59530962,  0.62539893,  0.65606548,\n",
       "          0.68736185,  0.71934648,  0.75208458,  0.78564937,  0.82012357,\n",
       "          0.85560121,  0.89218993,  0.93001393,  0.96921765,  1.00997067,\n",
       "          1.05247413,  1.09696931,  1.14374949,  1.19317644,  1.24570419,\n",
       "          1.30191411,  1.36256869,  1.42869743,  1.50174123,  1.58381122,\n",
       "          1.67819304,  1.79044653,  1.93122778,  2.12570747,  2.46203784]),\n",
       "  array([-2.51033641, -2.05749524, -2.03694132, -2.0292337 , -1.76190847,\n",
       "         -1.75068727, -1.72670955, -1.37436162, -1.3638165 , -1.33792652,\n",
       "         -1.22189115, -1.18778249, -1.06537682, -0.95439028, -0.95375473,\n",
       "         -0.90396465, -0.89646139, -0.8701021 , -0.84381794, -0.82805425,\n",
       "         -0.8174954 , -0.78362893, -0.78357141, -0.76954243, -0.76415876,\n",
       "         -0.71200911, -0.64741498, -0.56869461, -0.47574702, -0.44414404,\n",
       "         -0.42541343, -0.41479293, -0.40179582, -0.38618247, -0.38529034,\n",
       "         -0.37344825, -0.33952673, -0.3295375 , -0.25804764, -0.23564446,\n",
       "         -0.23295181, -0.171     , -0.13440017, -0.12753725, -0.12696908,\n",
       "         -0.11265012, -0.06464456, -0.05534624, -0.04641676,  0.02084484,\n",
       "          0.03083913,  0.03714018,  0.0389086 ,  0.05345812,  0.07265079,\n",
       "          0.16939782,  0.21931667,  0.2276429 ,  0.23021523,  0.2423974 ,\n",
       "          0.30316166,  0.31248615,  0.34652101,  0.37542357,  0.40431323,\n",
       "          0.44034583,  0.44419229,  0.44421093,  0.50393259,  0.51073344,\n",
       "          0.53517571,  0.55284382,  0.65722196,  0.67991839,  0.68497837,\n",
       "          0.69645939,  0.71985995,  0.73072557,  0.73518319,  0.7516792 ,\n",
       "          0.76163133,  0.78371963,  0.91542941,  0.92133737,  0.97628554,\n",
       "          0.98487959,  1.02659639,  1.07077898,  1.09367273,  1.1994993 ,\n",
       "          1.31627534,  1.32425083,  1.37834637,  1.50884926,  1.51006287,\n",
       "          1.65223311,  1.66810676,  1.72062178,  1.96209819,  2.06023064])),\n",
       " (np.float64(0.9759847049737594),\n",
       "  np.float64(-0.010559313028382838),\n",
       "  np.float64(0.9969742491742608)))"
      ]
     },
     "execution_count": 22,
     "metadata": {},
     "output_type": "execute_result"
    },
    {
     "data": {
      "image/png": "[encoded data removed]",
      "text/plain": [
       "<Figure size 400x400 with 1 Axes>"
      ]
     },
     "metadata": {},
     "output_type": "display_data"
    }
   ],
   "source": [
    "fig, ax = plt.subplots(figsize=(4,4))\n",
    "norm_sample = stats.norm.rvs(size=100)\n",
    "stats.probplot(norm_sample, plot=ax)"
   ]
  },
  {
   "cell_type": "markdown",
   "id": "5da91a84",
   "metadata": {},
   "source": [
    "**Key Takeaways**\n",
    "\n",
    "- The normal distribution was essential to historical development of statistics, as it permitted mathematical approximation of uncertainty and variability.\n",
    "- While raw data is typically not normally distributed, errors often are, as are averages and totals in large samples.\n",
    "- To convert data to z-scores, you subtract the mean of the data and divide by the standard deviation; you can then compare the data to a normal distribution."
   ]
  },
  {
   "cell_type": "markdown",
   "id": "2f1fd6a3",
   "metadata": {},
   "source": [
    "## Long-Tailed Distributions"
   ]
  },
  {
   "cell_type": "markdown",
   "id": "c9d4eb76",
   "metadata": {},
   "source": [
    "**Key Terms for Long-Tailed Distributions**\n",
    "\n",
    "- Tail: the long narrow portion of a frequency distribution, where relatively extreme values occur at low frequency\n",
    "\n",
    "- Skew: where one tail of a distribution is longer than the others"
   ]
  },
  {
   "cell_type": "markdown",
   "id": "9dc0494c",
   "metadata": {},
   "source": [
    "**Long-tailed distributions**\n",
    "\n",
    "- Highly-skewed (asymmetric)\n",
    "- Ex: income, stock returns"
   ]
  },
  {
   "cell_type": "markdown",
   "id": "d8878a53",
   "metadata": {},
   "source": [
    "Below shows the QQ-Plot for the daily stock retunrs for Netflix (NFLX) in Python:"
   ]
  },
  {
   "cell_type": "code",
   "execution_count": null,
   "id": "ba7018bc",
   "metadata": {},
   "outputs": [],
   "source": [
    "sp500_px = pd.read_csv('/Users/brian.v.nguyen/projects/practical_statistics_for_data_scientists/data/sp500_data.csv.gz')"
   ]
  },
  {
   "cell_type": "code",
   "execution_count": 24,
   "id": "71e48553",
   "metadata": {},
   "outputs": [
    {
     "data": {
      "text/plain": [
       "((array([-3.33278964, -3.07756454, -2.93575124, ...,  2.93575124,\n",
       "          3.07756454,  3.33278964], shape=(1612,)),\n",
       "  array([-6.60529819, -6.09667121, -5.40220961, ...,  5.12547859,\n",
       "          5.87072271,  6.03787   ], shape=(1612,))),\n",
       " (np.float64(1.4823778663727092),\n",
       "  np.float64(0.0015561067366313861),\n",
       "  np.float64(0.9941828221936319)))"
      ]
     },
     "execution_count": 24,
     "metadata": {},
     "output_type": "execute_result"
    },
    {
     "data": {
      "image/png": "[encoded data removed]",
      "text/plain": [
       "<Figure size 400x400 with 1 Axes>"
      ]
     },
     "metadata": {},
     "output_type": "display_data"
    }
   ],
   "source": [
    "nflx = sp500_px.NFLX\n",
    "nflx = np.diff(np.log(nflx[nflx>0]))\n",
    "\n",
    "fig, ax = plt.subplots(figsize=(4,4))\n",
    "stats.probplot(nflx, plot=ax)"
   ]
  },
  {
   "cell_type": "markdown",
   "id": "33daa237",
   "metadata": {},
   "source": [
    ">Netflix's stock returns follow a phenomenon called *\"normal in the middle\"* where points are close to the line for the data within one standard deviation of the mean."
   ]
  },
  {
   "cell_type": "markdown",
   "id": "749d2a37",
   "metadata": {},
   "source": [
    "## Student's t-Distribution"
   ]
  },
  {
   "cell_type": "markdown",
   "id": "210a1291",
   "metadata": {},
   "source": [
    "**Key Terms for Student's T-Distribution**\n",
    "\n",
    "$n$: Sample size.\n",
    "\n",
    "Degrees of freedom: a parameter that allows the t-distribution to adjust to different sample sizes, statistics, and numbers of groups."
   ]
  },
  {
   "cell_type": "markdown",
   "id": "23d2a3bd",
   "metadata": {},
   "source": [
    "**Student's t-distribution**\n",
    "\n",
    "- normally shaped distribution, but thicker and longer on the tails\n",
    "- used for depicting distributions of sample statistics\n",
    "- there's a family of t-distributions that differ depending on how large the sample is. The larger the sample, the more normally shaped the t-distribution becomes.\n",
    "- Sample statistics are often normally distributed, even when the underlying population data is not (leading to widespread application of t-distribution). This brings us back to the central limit theorem."
   ]
  },
  {
   "cell_type": "markdown",
   "id": "70f0dc04",
   "metadata": {},
   "source": [
    "**Use Cases**\n",
    "\n",
    "- A/B Tests\n",
    "- Regressions"
   ]
  },
  {
   "cell_type": "markdown",
   "id": "3328cc29",
   "metadata": {},
   "source": [
    "**Key Ideas**\n",
    "\n",
    "- The t-distribution is actually a family of distributions resembling the normal distribution but with thicker tails.\n",
    "- The t-distribution is widely used as a reference basis for the distribution of sample means, differences between two sample means, regression parameters, and more."
   ]
  },
  {
   "cell_type": "markdown",
   "id": "8ad744f7",
   "metadata": {},
   "source": [
    "## Binomail Distribution"
   ]
  },
  {
   "cell_type": "markdown",
   "id": "e5ae15f0",
   "metadata": {},
   "source": [
    "Yes/no (binomial) outcomes\n",
    "- buy/don't buy\n",
    "- click/don't click\n",
    "- survive/die\n",
    "- head/tails\n",
    "- etc."
   ]
  },
  {
   "cell_type": "markdown",
   "id": "01150f5c",
   "metadata": {},
   "source": [
    "**Key Terms for Binomial Distribution**\n",
    "\n",
    "Trial: an event with a discrete outcome\n",
    "\n",
    "Success: The outcome of interest for a trial\n",
    "- synonym: \"1\" (as opposed to \"0\")\n",
    "\n",
    "Binomial: having two outcomes\n",
    "- synonyms: yes/no, 0/1, binary\n",
    "\n",
    "Binomial Distribution: distribution of number of successes in $x$ trials\n",
    "- synonym: Bernoulli distribution"
   ]
  },
  {
   "cell_type": "markdown",
   "id": "55d5c9ef",
   "metadata": {},
   "source": [
    "**What is a binomial distribution?**\n",
    "\n",
    "A Binomial Distribution is the frequency distribution of the number of successes ($x$) in a given number of trials ($n$) with specified probability ($p$) of success in each trial. There is a family of binomial distributions, depending on values of $n$ and $p$. \n",
    "\n",
    "Types of questions to answer with binomial distribution:\n",
    "- If the probability of a click converting to a sale is 0.02, what is the probability of observing 0 sales in 200 clicks?"
   ]
  },
  {
   "cell_type": "code",
   "execution_count": 26,
   "id": "62968cca",
   "metadata": {},
   "outputs": [
    {
     "name": "stdout",
     "output_type": "stream",
     "text": [
      "0.07289999999999995\n",
      "0.99144\n"
     ]
    }
   ],
   "source": [
    "pmf = stats.binom.pmf(2, n=5, p=0.1)\n",
    "cdf = stats.binom.cdf(2, n=5, p=0.1)\n",
    "\n",
    "print(pmf)\n",
    "\n",
    "print(cdf)"
   ]
  },
  {
   "cell_type": "markdown",
   "id": "09765d1c",
   "metadata": {},
   "source": [
    "**Key Ideas**\n",
    "- Binomial outcomes are important to model, since they represent fundamental decisions (buy or don't buy, click or don't click, survive or die, etc.)\n",
    "- A binomial trial is an experiment with two possible outcomes: one with probability $p$ and the other with probability $1 - p$\n",
    "- With large $n$, and provided $p$ is not too close to 0 or 1, the binomial distribution can be approximated by the normal distribution."
   ]
  },
  {
   "cell_type": "markdown",
   "id": "8919e617",
   "metadata": {},
   "source": [
    "## Chi-Square Distribution"
   ]
  },
  {
   "cell_type": "markdown",
   "id": "b35a77b2",
   "metadata": {},
   "source": [
    "**Key Ideas**\n",
    "- The chi-square distribution is typically concerned with counts of subjects or items falling into categories\n",
    "- The chi-square statistic measures the extent of departure from what you would expect in a null hypothesis\n",
    "- Useful for determining whether treatments (an A/B/C test) differ from one another in their effects.\n",
    "- Low chi-square value indicates that they differ from what is expected"
   ]
  },
  {
   "cell_type": "markdown",
   "id": "bb6cdb23",
   "metadata": {},
   "source": [
    "## F-Distribution"
   ]
  },
  {
   "cell_type": "markdown",
   "id": "b23a86d9",
   "metadata": {},
   "source": [
    "F-statistic measures the extent to which differences among group means are greater than we might expect under normal random variation, and is the ratio of the variability among the group means to the variability within each group (also called residual variability). This comparison is termed an *analysis of variance*. \n",
    "\n",
    "The distribution of the F-statistic is the frequency distribution of all the values that would be produced by randomly permuting data in which all the group means are equal (i.e. a null model). There are a family of F-distributions associated with different degrees of freedom (e.g., numbers of groups). \n",
    "\n",
    "F-statistic is also used in linear regression to compare the variation accounted for by the regression model to the overall variation in the data. F-statistics are produced automatically by R and Python as part of regression and ANOVA routines."
   ]
  },
  {
   "cell_type": "markdown",
   "id": "2d67421a",
   "metadata": {},
   "source": [
    "**Key Ideas**\n",
    "- The F-distribution is used with experiments and linear models invovling continuous measured data\n",
    "- The F-statistic compares variation due to factors of interest to overall variation"
   ]
  },
  {
   "cell_type": "markdown",
   "id": "9205da28",
   "metadata": {},
   "source": [
    "## Poisson and Related Distributions"
   ]
  },
  {
   "cell_type": "markdown",
   "id": "a4d08567",
   "metadata": {},
   "source": [
    "**Key Terms**\n",
    "\n",
    "Lambda: The rate (per unit of time or space) at which events occur.\n",
    "\n",
    "Poisson distribution: The frequency distribution of the number of events in sampled units of time or space\n",
    "\n",
    "Exponential distribution: The frequency distribution of the time or distance from one event to the next event\n",
    "\n",
    "Weibull distribution: A generalized version of the exponential distribution in which the event rate is allowed to shift over time."
   ]
  },
  {
   "cell_type": "markdown",
   "id": "25be8c51",
   "metadata": {},
   "source": [
    "**Poisson Distributions**\n",
    "\n",
    "From prior aggregate data, we can estimate the average number of events per unit of time or space (e.g., infections per day, or per census unit). We might also want to know how different this might be from one unit of time/space to another. \n",
    "\n",
    "The Poisson distribution tells us the distribution of events per unit of time or space when we sample many such units. It is useful when addressing queuing questions such as \"How much capacity do we need to be 95% sure of fully processing the internet traffic that arrives on a server in any five-second period?\"\n",
    "\n",
    "The key parameter in a Poisson distribution is $\\lambda$, or lambda. This is the mean number of events that occurs in a specified interval of time or space. The variance for a Poisson distribution is also $\\lambda$.\n",
    "\n",
    "A common technique is to generate random numbers from a Poisson distribution as part of a queuing simulation. The scipy function is stats.poisson.rvs:"
   ]
  },
  {
   "cell_type": "code",
   "execution_count": 27,
   "id": "ebd2c90f",
   "metadata": {},
   "outputs": [
    {
     "data": {
      "text/plain": [
       "array([2, 2, 3, 2, 2, 1, 0, 1, 3, 2, 1, 3, 1, 3, 0, 2, 3, 1, 2, 5, 4, 0,\n",
       "       0, 2, 2, 0, 1, 0, 1, 1, 0, 2, 2, 2, 0, 3, 3, 3, 0, 0, 1, 0, 3, 0,\n",
       "       4, 4, 2, 0, 2, 0, 2, 3, 0, 5, 3, 2, 4, 4, 5, 1, 2, 0, 1, 5, 2, 4,\n",
       "       2, 1, 2, 1, 4, 3, 5, 3, 2, 1, 1, 2, 2, 1, 1, 3, 2, 3, 2, 2, 1, 1,\n",
       "       1, 4, 3, 1, 1, 0, 1, 2, 3, 1, 2, 2])"
      ]
     },
     "execution_count": 27,
     "metadata": {},
     "output_type": "execute_result"
    }
   ],
   "source": [
    "stats.poisson.rvs(2, size=100)"
   ]
  },
  {
   "cell_type": "markdown",
   "id": "9e9df5e9",
   "metadata": {},
   "source": [
    "This generates 100 random numbers from a Poisson distribution with $\\lambda = 2$. For example, if incoming customer services calls average two per minute, this code will generate 100 minutes, returning the number of calls in each of those 100 minutes."
   ]
  },
  {
   "cell_type": "markdown",
   "id": "937cc396",
   "metadata": {},
   "source": [
    "**Exponential Distribution**\n",
    "\n",
    "Using the same parameter $\\lambda$ taht we used for the Poisson distribution, we can also model the distribution of the time between events: time between visits to a website or between cars arriving at a toll plaza. It's also used in engineering to model time to failure, and in process management to model, for example, the time required per service call. \n",
    "\n",
    "The scipy implementation in Python specifies the exponential distribution using scale instead of rate. With scale being the inverse of rate:"
   ]
  },
  {
   "cell_type": "code",
   "execution_count": 37,
   "id": "12600765",
   "metadata": {},
   "outputs": [
    {
     "data": {
      "text/plain": [
       "array([1.86705502e+01, 1.76486826e+00, 3.57085435e+00, 7.27299126e+00,\n",
       "       1.49422277e+00, 2.14715984e+00, 1.93945595e+01, 9.91576916e+00,\n",
       "       6.54692309e+00, 1.45567629e-01, 6.62656468e+00, 1.47729900e+01,\n",
       "       7.00383414e+00, 7.85493073e-01, 9.48285193e+00, 6.45716949e-01,\n",
       "       3.56120221e+00, 5.05652506e+00, 1.97914158e-01, 7.79716073e+00,\n",
       "       8.08431417e+00, 1.10518143e+00, 1.08686567e+01, 9.79184519e-01,\n",
       "       4.36094889e+00, 5.70129919e+00, 1.54847393e+00, 1.42110779e-01,\n",
       "       7.01231532e-01, 2.41204247e+00, 8.21364755e-01, 2.89918522e+00,\n",
       "       1.41740953e+01, 1.81814915e-01, 4.69664702e+00, 2.27446600e-03,\n",
       "       1.84126020e+00, 1.73020096e+00, 1.50721204e+01, 5.97987363e+00,\n",
       "       1.51462624e+00, 2.06444274e+00, 4.65144213e+00, 3.10659427e+00,\n",
       "       1.98994996e-01, 8.69312841e+00, 8.32791665e+00, 1.22392006e+00,\n",
       "       4.26720476e+00, 1.34945280e+00, 3.38978749e+00, 7.06926244e+00,\n",
       "       1.42215053e+01, 4.08779700e+00, 9.81027377e+00, 1.47834503e+01,\n",
       "       2.71165358e+00, 1.67142976e+01, 8.01127392e-01, 1.08905726e+01,\n",
       "       1.14634207e+01, 1.23036906e+01, 5.98631189e-01, 6.07531768e-01,\n",
       "       1.60526151e+00, 4.99422426e+00, 1.12691825e+00, 6.27271794e-01,\n",
       "       9.24627695e-01, 9.85284734e+00, 7.55803073e-01, 2.22706527e+00,\n",
       "       3.89744165e-01, 5.76035594e+00, 5.22374269e+00, 4.82375072e+00,\n",
       "       9.76762512e+00, 4.40636489e+00, 6.71249975e-01, 1.03773317e+00,\n",
       "       2.12285074e+00, 6.44691265e+00, 4.61087258e+00, 8.46115046e+00,\n",
       "       5.24971538e-01, 8.63227550e-03, 4.46005922e-01, 4.76162997e-01,\n",
       "       3.10691125e+00, 3.53648390e+00, 1.81523743e+01, 1.37151099e+00,\n",
       "       6.56876487e+00, 5.29053862e+00, 4.08902452e+00, 4.32432213e+01,\n",
       "       2.61502004e-01, 5.12154184e+00, 4.33576300e+00, 1.44803532e+01])"
      ]
     },
     "execution_count": 37,
     "metadata": {},
     "output_type": "execute_result"
    }
   ],
   "source": [
    "stats.expon.rvs(scale=1/0.2, size=100)\n",
    "stats.expon.rvs(scale=5, size=100)"
   ]
  },
  {
   "cell_type": "markdown",
   "id": "670d44e6",
   "metadata": {},
   "source": [
    "This code will generate 100 random numbers from an exponential distribution where the mean number of events per time period is 0.2. So you could use it to simulate 100 intervals, in minutes, between service calls, where the average rate of incoming calls is 0.2 per minute.\n",
    "\n",
    "A key assumption in any simulation study for either the Poisson or exponential distribution is the rate, $\\lambda$, remains constant over the period being considered. This is rarely reasonable in a global sense; for example, traffic on roads or data networks varies by time of day and day of week. However, the time periods, or areas of space, can usually be divided into segments that are sufficiently homogenous so that analysis or simulation within those periods is valid."
   ]
  }
 ],
 "metadata": {
  "kernelspec": {
   "display_name": ".venv",
   "language": "python",
   "name": "python3"
  },
  "language_info": {
   "codemirror_mode": {
    "name": "ipython",
    "version": 3
   },
   "file_extension": ".py",
   "mimetype": "text/x-python",
   "name": "python",
   "nbconvert_exporter": "python",
   "pygments_lexer": "ipython3",
   "version": "3.13.2"
  }
 },
 "nbformat": 4,
 "nbformat_minor": 5
}
