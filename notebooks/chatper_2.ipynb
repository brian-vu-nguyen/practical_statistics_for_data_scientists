{
 "cells": [
  {
   "cell_type": "markdown",
   "id": "5c2f0a91",
   "metadata": {},
   "source": [
    "# Chapter 2. Data and Sampling Distributions"
   ]
  },
  {
   "cell_type": "markdown",
   "id": "d79cdc27",
   "metadata": {},
   "source": [
    "## Random Sampling and Sample Bias"
   ]
  },
  {
   "cell_type": "markdown",
   "id": "7de0176f",
   "metadata": {},
   "source": [
    "Sample = a subset of data from the population (a larger data set)\n",
    "\n",
    "Random Sampling = a process in which each available member of the population being sampled has an equal chance of being chosen for the sample at each draw. The sample that results is called a *simple random sample*. Sampling can be done with *replacement*, in which observations are put back in the population after each draw for possible future reselection. Or it can be done without replacement, in which case observations, once selected, are unavailable for future draws.\n",
    "\n",
    "Data quality > data quantity when making an estimate or a model based on a sample. Data quality in data science is the completeness, consistency in format, cleanliness, and accuracy of individual data points. Statistics adds the notion of *representativeness*. \n",
    "\n",
    "Bias = systematic error\n",
    "\n",
    "Sample bias = A sample that misrepresents the population"
   ]
  },
  {
   "cell_type": "markdown",
   "id": "87cb5220",
   "metadata": {},
   "source": [
    "## Selection Bias"
   ]
  },
  {
   "cell_type": "markdown",
   "id": "f7adaf94",
   "metadata": {},
   "source": [
    "## Sampling Distribution of a Statistic"
   ]
  },
  {
   "cell_type": "markdown",
   "id": "eb69b31e",
   "metadata": {},
   "source": [
    "## The Bootstrap"
   ]
  },
  {
   "cell_type": "markdown",
   "id": "b14446c0",
   "metadata": {},
   "source": [
    "## Confidence Intervals"
   ]
  },
  {
   "cell_type": "markdown",
   "id": "ebbeb1ca",
   "metadata": {},
   "source": [
    "## Normal Distribution"
   ]
  }
 ],
 "metadata": {
  "language_info": {
   "name": "python"
  }
 },
 "nbformat": 4,
 "nbformat_minor": 5
}
