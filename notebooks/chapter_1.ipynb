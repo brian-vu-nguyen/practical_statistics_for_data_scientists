{
 "cells": [
  {
   "cell_type": "markdown",
   "metadata": {},
   "source": [
    "# Chapter 1: Exploratory Data Analysis\n",
    "\n",
    "    Overview: This chapter focuses on the first step of any data science project: epxloring the data."
   ]
  },
  {
   "cell_type": "markdown",
   "metadata": {},
   "source": [
    "## Data Structures\n",
    "Two types of data structures:\n",
    "* Unstructured data: Images, videos, Emails, Audio files\n",
    "* Structured data: Relational databases, Spreadsheets, data tables (CSV, TSV), XML & JSON files"
   ]
  },
  {
   "cell_type": "markdown",
   "metadata": {},
   "source": [
    "***Data Types***\n",
    "\n",
    "There are two basic types of structure data: numeric and categorical.\n",
    "\n",
    "* Numeric: Data expressed on a numeric scale\n",
    "    * Continuous: Data that can take on any value in an interval \n",
    "        * Synonyms: interval, float, numeric\n",
    "        * Examples: Time, meters, miles\n",
    "    * Discrete: Data that can take only integer values\n",
    "        * Synonyms: integer, count\n",
    "        * Examples: Age, Number of students in a class, Number of rooms in a house\n",
    "\n",
    "* Categorical: Data taht can take on only a specific set of values representing a set of possible categories (Synonyms: enums, enumerated, factors, nominal)\n",
    "    * Binary: A special case of categorical data with just two categories of values\n",
    "        * Synonyms: dichotomous, logical, indicator, boolean\n",
    "        * Examples: 0 or 1, True or False\n",
    "    * Ordinal: Categorical data that has an explicit ordering.\n",
    "        * Synonyms: ordered factor\n",
    "        * Examples: (Red, Green, or Blue), (Large, Medium, Small), (Cat, Dog, Mouse), Movie ratings, levels of pain"
   ]
  },
  {
   "cell_type": "markdown",
   "metadata": {},
   "source": [
    "***Data Typing in Software***\n",
    "\n",
    "Different software will handle data types differently. As a result, it's important to know your software and how it handles data types so that practitioners can appropriately conduct analyses."
   ]
  },
  {
   "cell_type": "markdown",
   "metadata": {},
   "source": [
    "***Key Terms for Rectangular Data***\n",
    "\n",
    "Data Frame\n",
    "* Rectangular data (like a spreadsheet) is the basic data structure for statistical and machine learning models.\n",
    "\n",
    "Feature\n",
    "* A column within a table is commonly referred to as a feature\n",
    "\n",
    "Outcome\n",
    "* Many data science projects involve predicting an *outcome* - often a yes/no outcome. The features are sometimes used to predict the *outcome* in an experiment or a study.\n",
    "* Synonyms: dependent variable, response, target, otuput\n",
    "\n",
    "Records\n",
    "* A row within a table is commonly referred to as a *record*.\n",
    "* Synonyms: case, example, instance, observation, pattern, sample"
   ]
  },
  {
   "cell_type": "markdown",
   "metadata": {},
   "source": [
    "***Nonrectangular Data Structures***\n",
    "* Time-series data\n",
    "* Spacial data structures (mapping and location analytics)\n",
    "* Graph data structures (physical, social, and abstract relationships)"
   ]
  },
  {
   "cell_type": "markdown",
   "metadata": {},
   "source": [
    "## Statistical Moments\n",
    "\n",
    "In statistical theory...\n",
    "\n",
    "- First Moment:  location\n",
    "- Second Moment: variability\n",
    "- Third Moment:  skewness\n",
    "- Fourth Moment: kurtosis\n",
    "\n",
    "We'll go through what each means in greater detail later in this chapter."
   ]
  },
  {
   "cell_type": "markdown",
   "metadata": {},
   "source": [
    "## Estimates of Location\n",
    "Estimates of location are variables with measured or coutn data that might have thousands of distinct values. A basic step in exploring your data is getting a \"typical value\" for each feature (variable): an estimate of where most of the data is located (i.e., its central tendancy)."
   ]
  },
  {
   "cell_type": "markdown",
   "metadata": {},
   "source": [
    "**Key Terms for Estimates of Location**\n",
    "\n",
    "Mean\n",
    ">The sum of all values divided by the number of values.\n",
    ">>Synonym: average\n",
    "\n",
    "Weighted mean\n",
    ">The sum of all values times a weight divided by the sum of the weights.\n",
    ">>Synonym: weighted average\n",
    "\n",
    "Median\n",
    ">The value such that one-half of the data lies above and below.\n",
    ">>Synonym: 50th percentile\n",
    "\n",
    "Percentile\n",
    ">The value such that *P* percent of the data lies below.\n",
    ">>Synonym: quantile\n",
    "\n",
    "Weighted median\n",
    ">The value such that one-half of the sum of the weights lies above and below the sorted data.\n",
    "\n",
    "Trimmed mean\n",
    ">The average of all values after dropping a fixed number of extreme values.\n",
    ">>Synonym: truncated mean\n",
    "\n",
    "Robust\n",
    ">Not sensitive to extreme values.\n",
    ">>Synonym: resistant\n",
    "\n",
    "Outlier\n",
    ">A data value that is very different from most of the data.\n",
    ">>Synonym: extreme value"
   ]
  },
  {
   "cell_type": "markdown",
   "metadata": {},
   "source": [
    "**Mean**\n",
    "\n",
    "$\n",
    "\\bar{x} = \\frac{1}{n}\\sum_{i=1}^{n} x_i\n",
    "$\n",
    "\n",
    "The most basic estimate of location is the mean, or *average* value. The mean is the sum of all values divided by the number of values. Consider the following set of numbers: {3, 5, 1, 2}. \n",
    "\n",
    "The mean is \n",
    "= (3 + 5 + 1 + 2) / 4 \n",
    "= 11 / 4\n",
    "= 2.75"
   ]
  },
  {
   "cell_type": "markdown",
   "metadata": {},
   "source": [
    "**Trimmed mean**\n",
    "\n",
    "$ \\bar{x} = \\dfrac{\\displaystyle\\sum_{i=p+1}^{\\,n-p} x_{(i)}}{n - 2p} $\n",
    "\n",
    "A variation of the mean is a *trimmed mean*, which you calculate by dropping a fixed number of sorted values at each end and then taking an average of the remaining values. Representing the sorted values by $x_{(1)}, x_{(2)}... x_{(n)}$ where $x_{(1)}$ is the smallest value and $x_{(n)}$ is the largest.\n",
    "\n",
    "A trimmed mean eliminates the influence of extreme values. For example, in international diving the top and bottom scores from five judges are dropped, and the final score is the average of the scores from the three remaining judges. This makes it difficult for a single judge to manipulate the score, perhaps to favor their country's contestant. Trimmed means are widely used, and in many cases are preferable to using the ordinary mean. "
   ]
  },
  {
   "cell_type": "markdown",
   "metadata": {},
   "source": [
    "**Weighted Mean**\n",
    "\n",
    "$ \\bar{x}_w = \\dfrac{\\displaystyle\\sum_{i=1}^{n} w_i x_i}{\\displaystyle\\sum_{i=1}^{n} w_i} $\n",
    "\n",
    "Another type of mean is a *weighted mean*, which you calculate by multiplying each data value $x_{(i)}$ by a user-specified weight $w_{(i)}$ and dividing their sum by the sum of the weights. \n",
    "\n",
    "There are two (2) main motivations for using a weighted mean:\n",
    "1. Some values are intrinsically more variable than others, and highly variable observations are given a lower weight. For example, if we are taking the average from multiple sensors and one of the sensors is less accurate, then we might downweight the data from that sensor.\n",
    "2. The data collected does not equally represent the different groups that we are interested in measuring. For example, because of the way an online experiment was conducted, we may not have a set of data that accurately reflects all groups in the user base. To correct that, we can give a higher weight to the values from the groups that were underrepresented. "
   ]
  },
  {
   "cell_type": "markdown",
   "metadata": {},
   "source": [
    "**Median and Robust Estimates**\n",
    "\n",
    "The *median* is the middle number on a sorted list of the data. If there is an even number of data values, the middle value is one that is not actually in the data set, but rather the average of the two values that divide the sorted data into upper and lower halves. Compared to the mean, which uses all observations, the median depends only on the values in the center of the sorted data. While this might seem to be a disadvantage, since the mean is much more sensitive to the data, there are many instances in which the median is a better metric for estimating location. Let's say we want to look at typical household incomes in neighborhoods around Lake Washington in Seattle. In comparing the Medina neighborhood to the Windermere neighborhood, using the mean would produce very different results because Bill Gates lives in Medina. If we use the median, it won't matter how rich Bill Gates is - the position of the middle observation will remain the same.\n",
    "\n",
    "For the same reasons one uses a weighted mean, it's also possible to compute a *weighted median*. As with the median, we first sort the data, although each data value has an associated weight. Instead of the middle number, the weighted median is a value such that the sum of the weights is equal for the lower and upper halves of the sorted list. Like the median, the weighted median is robust to outliers."
   ]
  },
  {
   "cell_type": "markdown",
   "metadata": {},
   "source": [
    "**Outliers**\n",
    "\n",
    "The median is referred to as a *robust* estimate of location since it's not influenced by *outliers* (extreme cases) that could skew the results. An outlier is any value that is very distant from the other values in a data set. \n",
    "\n",
    "An outlier itself doesn't make a data value invalid or erroneous (like the Bill Gates example). Still, outliers are often the result of data errors such as mixing data of different units (kilometers vs. meters) or bad readings from a sensor. When outliers are the result of bad data, the mean will result in a poor location estimate, while the median will still be valid. In any case, outliers should be identified and are usually worthy of further investigation.\n",
    "\n",
    "> Anomaly Detection\n",
    ">>In contrast to typical data analysis, where outliers are somtimes informative and sometimes a nuisance, in *anomaly detection* the points of interest are the outliers, and the greater mass of data serves primarily to define the \"normal\" against which anomalies are measured."
   ]
  },
  {
   "cell_type": "code",
   "execution_count": 19,
   "metadata": {},
   "outputs": [],
   "source": [
    "import pandas as pd\n",
    "from scipy import stats"
   ]
  },
  {
   "cell_type": "code",
   "execution_count": 8,
   "metadata": {},
   "outputs": [
    {
     "data": {
      "text/html": [
       "<div>\n",
       "<style scoped>\n",
       "    .dataframe tbody tr th:only-of-type {\n",
       "        vertical-align: middle;\n",
       "    }\n",
       "\n",
       "    .dataframe tbody tr th {\n",
       "        vertical-align: top;\n",
       "    }\n",
       "\n",
       "    .dataframe thead th {\n",
       "        text-align: right;\n",
       "    }\n",
       "</style>\n",
       "<table border=\"1\" class=\"dataframe\">\n",
       "  <thead>\n",
       "    <tr style=\"text-align: right;\">\n",
       "      <th></th>\n",
       "      <th>State</th>\n",
       "      <th>Population</th>\n",
       "      <th>Murder.Rate</th>\n",
       "      <th>Abbreviation</th>\n",
       "    </tr>\n",
       "  </thead>\n",
       "  <tbody>\n",
       "    <tr>\n",
       "      <th>0</th>\n",
       "      <td>Alabama</td>\n",
       "      <td>4779736</td>\n",
       "      <td>5.7</td>\n",
       "      <td>AL</td>\n",
       "    </tr>\n",
       "    <tr>\n",
       "      <th>1</th>\n",
       "      <td>Alaska</td>\n",
       "      <td>710231</td>\n",
       "      <td>5.6</td>\n",
       "      <td>AK</td>\n",
       "    </tr>\n",
       "    <tr>\n",
       "      <th>2</th>\n",
       "      <td>Arizona</td>\n",
       "      <td>6392017</td>\n",
       "      <td>4.7</td>\n",
       "      <td>AZ</td>\n",
       "    </tr>\n",
       "    <tr>\n",
       "      <th>3</th>\n",
       "      <td>Arkansas</td>\n",
       "      <td>2915918</td>\n",
       "      <td>5.6</td>\n",
       "      <td>AR</td>\n",
       "    </tr>\n",
       "    <tr>\n",
       "      <th>4</th>\n",
       "      <td>California</td>\n",
       "      <td>37253956</td>\n",
       "      <td>4.4</td>\n",
       "      <td>CA</td>\n",
       "    </tr>\n",
       "  </tbody>\n",
       "</table>\n",
       "</div>"
      ],
      "text/plain": [
       "        State  Population  Murder.Rate Abbreviation\n",
       "0     Alabama     4779736          5.7           AL\n",
       "1      Alaska      710231          5.6           AK\n",
       "2     Arizona     6392017          4.7           AZ\n",
       "3    Arkansas     2915918          5.6           AR\n",
       "4  California    37253956          4.4           CA"
      ]
     },
     "execution_count": 8,
     "metadata": {},
     "output_type": "execute_result"
    }
   ],
   "source": [
    "state_df = pd.read_csv(\"/Users/brian.v.nguyen/projects/practical_statistics_for_data_scientists/data/state.csv\")\n",
    "state_df.head(5)"
   ]
  },
  {
   "cell_type": "markdown",
   "metadata": {},
   "source": [
    "Compute the mean, trimmed mean, and median for the population"
   ]
  },
  {
   "cell_type": "code",
   "execution_count": null,
   "metadata": {},
   "outputs": [
    {
     "name": "stdout",
     "output_type": "stream",
     "text": [
      "Average: 6162876.3\n",
      "Median: 4436369.5\n",
      "Trimmed Average: 4783697.125\n"
     ]
    }
   ],
   "source": [
    "avg = state_df['Population'].mean()\n",
    "med = state_df['Population'].median()\n",
    "trimmed_avg = stats.trim_mean(state_df['Population'], 0.1)\n",
    "\n",
    "print(f\"Average: {avg}\")\n",
    "print(f\"Median: {med}\")\n",
    "print(f\"Trimmed Average: {trimmed_avg}\")"
   ]
  },
  {
   "cell_type": "markdown",
   "metadata": {},
   "source": [
    "Compute the weighted average murder rate"
   ]
  },
  {
   "cell_type": "code",
   "execution_count": 23,
   "metadata": {},
   "outputs": [],
   "source": [
    "import numpy as np\n",
    "import wquantiles # pip3 install wquantiles"
   ]
  },
  {
   "cell_type": "code",
   "execution_count": 27,
   "metadata": {},
   "outputs": [
    {
     "name": "stdout",
     "output_type": "stream",
     "text": [
      "Weighted Avg. Murder Rate using NumPy: 4.445833981123393\n",
      "Weighted Avg. Murder Rate using wquantiles: 4.4\n"
     ]
    }
   ],
   "source": [
    "np_weighted_avg_murder_rate = np.average(\n",
    "    state_df['Murder.Rate'],\n",
    "    weights=state_df['Population']\n",
    "    )\n",
    "\n",
    "wquantiles_weighted_avg_murder_rate = wquantiles.median(\n",
    "    state_df['Murder.Rate'],\n",
    "    weights=state_df['Population']\n",
    "    )\n",
    "\n",
    "print(f\"Weighted Avg. Murder Rate using NumPy: {np_weighted_avg_murder_rate}\")\n",
    "print(f\"Weighted Avg. Murder Rate using wquantiles: {wquantiles_weighted_avg_murder_rate}\")"
   ]
  },
  {
   "cell_type": "markdown",
   "metadata": {},
   "source": [
    "## Estimates of Variability\n",
    "\n",
    "Location is just one dimension of summarizing a feature. A second dimension, variability, also referred to as *dispersion*, measures whether the data values are tightly clustered or spread out. At the heart of statistics lies variability: measuring it, reducing it, distinguishing random from real variability, identifying the various sources of real variability, and making decisions in the presence of it."
   ]
  },
  {
   "cell_type": "markdown",
   "metadata": {},
   "source": [
    "**Key Terms for Estimates of Variability**\n",
    "\n",
    "Deviations\n",
    ">The difference between the observed values and the estimate of location.\n",
    ">>Synonym: errors, residuals\n",
    "\n",
    "Variance\n",
    ">The sum of squared deviations form the mean divided by n - 1, where *n* is the number of data values.\n",
    ">>Synonym: mean-squared-error\n",
    "\n",
    "Standard deviation\n",
    ">The square root of the variance.\n",
    "\n",
    "Mean absolute deviation\n",
    ">The mean of the absolute values of the deviations from the mean.\n",
    ">>Synonym: l1-norm, Manhattan norm\n",
    "\n",
    "Median absolute deviation from the median\n",
    ">The median of the absolute values of the deviations from the mean.\n",
    "\n",
    "Range\n",
    ">The difference between the largest and the smallest value in a data set.\n",
    "\n",
    "Order statistics\n",
    ">Metrics based on the data values sorted from smallest to biggest.\n",
    ">>Synonym: ranks\n",
    "\n",
    "Percentile\n",
    ">The value such that *P* percent of the values take on this value or less and (100 - P) percent take on this value or more.\n",
    ">>Synonym: quantile\n",
    "\n",
    "Interquartile range\n",
    ">The difference between the 75th percentile and the 25th percentile.\n",
    ">>Synonym: IQR"
   ]
  },
  {
   "cell_type": "markdown",
   "metadata": {},
   "source": [
    "**Standard Deviation and Related Estimates**\n",
    "\n",
    "The most widely used estimates of variation are based on the differences, or *deviations*, between the estimate of location and the observed data. For a set of data {1, 4, 4}, the mean is 3 and the median is 4. The deviations from the mean are the differences: 1 - 3 = -2, 4 - 3 = 1, 4 - 3 = 1.\n",
    "\n",
    "These deviations tell us how dispersed the data is around the central value.\n",
    "\n",
    "One way to measure variability is to estimate a typical value for these deviations. Averaging the deviations themselves would not tell us much - the negative deviations offset the positive ones. In fact, the sum of the deviations from the mean is precisely zero. Instead, a simple approach is to take the average of the absolute values of the deviations from the mean. In the preceding example, the absolute value of the deviations is {2, 1, 1}, and their average is (2+1+1) / 3 = 1.33. This is known as the *mean absolute deviation* and is computed with the formula:\n",
    "\n",
    "$ \\text{Mean absolute deviation} = \\frac{\\displaystyle\\sum_{i=1}^{n} \\left| x_i - \\bar{x} \\right|}{n} $\n",
    "\n",
    "where $x$ is the sample mean.\n",
    "\n",
    "\n",
    "Best-known estimates of variability:\n",
    "* Variance: an average of the squared deviations\n",
    "* Standard deviation: square root of the variance\n",
    "\n",
    "$ \\text{Variance} = s^2 = \\frac{\\displaystyle\\sum_{i=1}^{n} (x_i - \\bar{x})^2}{n - 1} $\n",
    "\n",
    "$ \\text{Standard deviation} = s = \\sqrt{\\text{Variance}} $\n",
    "\n",
    "\n",
    "The standard deviation is easier to interpret than the variance since it is on the same scale as the original data. Still, with its more complicated and less intuitive formula, it might seem peculiar that the standard deviation is preferred in statistics over the mean absolute deviation. It owes preeiminence to statistical theory: mathematically, working with squared values is more convenient than absolute values, especially for statistical models.\n",
    "\n",
    "Neither the variance, standard deviation, nor the mean absolute deviation is robust to outliers and extreme values. The variance and standard deviation are especially sensitive to outliers since they are based on squared deviations. \n",
    "\n",
    "A robust estimate of variability is the *mean absolute deviation from the median* or MAD: \n",
    "$ \\text{Median absolute deviation} = \\text{Median} \\left( |x_1 - m|,\\ |x_2 - m|,\\ \\ldots,\\ |x_n - m| \\right) $\n",
    "\n",
    "where $m$ is the median. Like the median, the MAD is not influenced by extreme values. It's also possible to compute a trimmed standard deviation analogous to the trimmed mean."
   ]
  },
  {
   "cell_type": "markdown",
   "metadata": {},
   "source": [
    "## Estimates Based on Percentiles\n",
    "\n",
    "A different approach to estimating dispersion is based on looking at the spread of the sorted data. Statistics based on sorted(ranked) data are referred to as *order statistics*. "
   ]
  },
  {
   "cell_type": "markdown",
   "metadata": {},
   "source": [
    "Basic --> range: the difference between the largest and smallest numbers\n",
    "\n",
    "Finding the minimum and maximum values is useful, but the range is extremely sensitive to outliers and it's not very useful as a general measure of dispersion in the data.\n",
    "\n",
    "To avoid the sensitivity of outliers, we can look at the range of the data after dropping values from each end i.e. *percentiles*. In a data set, the *P*th percentile is a value such that at least *P* percent of the values take on this value or less and at least (100 - P) percent of the values take on this value or more. For example, to find the 80th percentile:\n",
    "1. Sort the data\n",
    "2. Start with the smallest value\n",
    "3. Proceed to 80% of the way to the largest value\n",
    "\n",
    ">Note: Median is the same as the 50th percentile\n",
    "\n",
    "The percentile is the same as a quantile, with quantiles indexed by fractions (so .8 quantile is the same as the 80th percentile)\n",
    "\n",
    "A common measurement of variability is the *interquartile range (or IQR)*: the difference between the 25th & 75th percentile."
   ]
  },
  {
   "cell_type": "markdown",
   "metadata": {},
   "source": [
    "**Example: Variability Estimates of State Population**\n",
    "\n",
    "Compute the standard deviation, 25th Percentile, 75th Percentile, IQR, and robust MAD"
   ]
  },
  {
   "cell_type": "code",
   "execution_count": 33,
   "metadata": {},
   "outputs": [],
   "source": [
    "import statsmodels\n",
    "from statsmodels.robust.scale import mad"
   ]
  },
  {
   "cell_type": "code",
   "execution_count": 41,
   "metadata": {},
   "outputs": [
    {
     "name": "stdout",
     "output_type": "stream",
     "text": [
      "Standard Deviation:  6848235.347401142\n",
      "25th Percentile:     1833004.25\n",
      "75th Percentile:     6680312.25\n",
      "Interquartile Range: -4847308.0\n",
      "Robust MAD:          3849876.1459979336\n"
     ]
    }
   ],
   "source": [
    "population_std = state_df['Population'].std()\n",
    "population_25_percentile = state_df['Population'].quantile(0.25)\n",
    "population_75_percentile = state_df['Population'].quantile(0.75)\n",
    "pop_iqr = population_25_percentile - population_75_percentile\n",
    "population_mad = mad(state_df['Population']) \n",
    "\n",
    "print(f\"Standard Deviation:  {population_std}\")\n",
    "print(f\"25th Percentile:     {population_25_percentile}\")\n",
    "print(f\"75th Percentile:     {population_75_percentile}\")\n",
    "print(f\"Interquartile Range: {pop_iqr}\")\n",
    "print(f\"Robust MAD:          {population_mad}\")\n"
   ]
  },
  {
   "cell_type": "markdown",
   "metadata": {},
   "source": [
    "**Key Takeaways**\n",
    "> Variance and standard deviation are the most widespread and routinely reported statistics of variability\n",
    "\n",
    "> Both are sensitive to outliers\n",
    "\n",
    "> More robust metrics include mean absolute deviation, median absolute deviation from the median, and percentiles (quantiles)"
   ]
  },
  {
   "cell_type": "markdown",
   "metadata": {},
   "source": [
    "## Exploring the Data Distribution\n",
    "\n",
    "Each of the above estimates sums up the data in a single number to describe the location or variability of the data. It's also useful to explore how the data is distributed overall."
   ]
  },
  {
   "cell_type": "markdown",
   "metadata": {},
   "source": [
    "**Key Terms for Exploring the Distribution**\n",
    "\n",
    "Boxplot\n",
    "- A plot introduced by Tukey as a quick way to visualize the distribution of the data\n",
    "- Synonym: box and wiskers plot\n",
    "\n",
    "Frequency table\n",
    "- A tally of the count and numeric data values that fall into a set of intervals (bins)\n",
    "\n",
    "Histogram\n",
    "- A plot of the frequency table with the bins on the x-axis and the count (or proportion) on the y-axis. While visually similar, bar charts should not be confused with histograms. \n",
    "\n",
    "Density plot\n",
    "- A smoothed version of the histogram, often based on a *kernal density estimate*."
   ]
  },
  {
   "cell_type": "markdown",
   "metadata": {},
   "source": [
    "### Percentiles and Boxplots\n",
    "\n",
    "Percentiles\n",
    "- Valuable for summarizing the entire distribution\n",
    "- Quartiles (25th, 50th, 75th percentiles)\n",
    "- Deciles (10th, 20th,..., 90th percentiles)\n",
    "- Valuable for summarizing the *tails* (outer range) of the distribution"
   ]
  },
  {
   "cell_type": "code",
   "execution_count": 45,
   "metadata": {},
   "outputs": [
    {
     "data": {
      "text/plain": [
       "0.05    1.600\n",
       "0.25    2.425\n",
       "0.50    4.000\n",
       "0.75    5.550\n",
       "0.95    6.510\n",
       "Name: Murder.Rate, dtype: float64"
      ]
     },
     "execution_count": 45,
     "metadata": {},
     "output_type": "execute_result"
    }
   ],
   "source": [
    "state_df['Murder.Rate'].quantile([0.05, 0.25, 0.5, 0.75, 0.95])"
   ]
  },
  {
   "cell_type": "markdown",
   "metadata": {},
   "source": [
    "> The median is 4 murders per 100,000 people, although there is quite a bit of variability: the 5th percentile is only 1.6 and the 95th percentile is 6.51."
   ]
  },
  {
   "cell_type": "code",
   "execution_count": 46,
   "metadata": {},
   "outputs": [
    {
     "data": {
      "text/plain": [
       "Text(0, 0.5, 'Population (millions)')"
      ]
     },
     "execution_count": 46,
     "metadata": {},
     "output_type": "execute_result"
    },
    {
     "data": {
      "image/png": "[encoded data removed]",
      "text/plain": [
       "<Figure size 640x480 with 1 Axes>"
      ]
     },
     "metadata": {},
     "output_type": "display_data"
    }
   ],
   "source": [
    "ax = (\n",
    "    state_df['Population']/1_000_000\n",
    ").plot.box()\n",
    "\n",
    "ax.set_ylabel('Population (millions)')"
   ]
  },
  {
   "cell_type": "markdown",
   "metadata": {},
   "source": [
    "> From this boxplot we can immediately see that the median state population is about 5 million, half the states fall between about 2 and 7 million, and there are some high population outliers. The top and bottom of the box are the 75th and 25th percentiles, respectively. The median is shown by the horizontal line in the box. The lines, or *whiskers*, extend from the top and bottom fo the box to indicate the range for the bulk of the data. There are many variations of a boxplot. By default, *Matplotlib* extends the whiskers to the furthest point beyond the box, except that it will not go beyond 1.5 times the IQR. Any data outside of the whiskers is plotted as single points or circles (often considered as outliers)."
   ]
  },
  {
   "cell_type": "markdown",
   "metadata": {},
   "source": [
    "### Frequency Tables and Histograms"
   ]
  },
  {
   "cell_type": "markdown",
   "metadata": {},
   "source": [
    "#### Frequency Tables & Percentiles"
   ]
  },
  {
   "cell_type": "markdown",
   "metadata": {},
   "source": [
    "A Frequency Table of a variable divides the variable range into equally spaced segments and tells us how many values fall within each segment."
   ]
  },
  {
   "cell_type": "markdown",
   "metadata": {},
   "source": [
    "The function pandas.cut creates a series that maps the values into the segments. Using the method value_counts, we get the following frequency table:"
   ]
  },
  {
   "cell_type": "code",
   "execution_count": 48,
   "metadata": {},
   "outputs": [
    {
     "data": {
      "text/plain": [
       "Population\n",
       "(526935.67, 4232659.0]      24\n",
       "(4232659.0, 7901692.0]      14\n",
       "(7901692.0, 11570725.0]      6\n",
       "(11570725.0, 15239758.0]     2\n",
       "(15239758.0, 18908791.0]     1\n",
       "(18908791.0, 22577824.0]     1\n",
       "(22577824.0, 26246857.0]     1\n",
       "(33584923.0, 37253956.0]     1\n",
       "(26246857.0, 29915890.0]     0\n",
       "(29915890.0, 33584923.0]     0\n",
       "Name: count, dtype: int64"
      ]
     },
     "execution_count": 48,
     "metadata": {},
     "output_type": "execute_result"
    }
   ],
   "source": [
    "binned_population = pd.cut(state_df['Population'], bins=10)\n",
    "binned_population.value_counts()"
   ]
  },
  {
   "cell_type": "code",
   "execution_count": 53,
   "metadata": {},
   "outputs": [
    {
     "name": "stderr",
     "output_type": "stream",
     "text": [
      "/var/folders/xh/9lr31ytd0zl6vnn42t3lws5h0000gq/T/ipykernel_78227/723437815.py:8: FutureWarning: The default of observed=False is deprecated and will be changed to True in a future version of pandas. Pass observed=False to retain current behavior or observed=True to adopt the future default and silence this warning.\n",
      "  binned_summary = state_df_sorted.groupby('PopBin').agg(\n"
     ]
    },
    {
     "data": {
      "text/html": [
       "<div>\n",
       "<style scoped>\n",
       "    .dataframe tbody tr th:only-of-type {\n",
       "        vertical-align: middle;\n",
       "    }\n",
       "\n",
       "    .dataframe tbody tr th {\n",
       "        vertical-align: top;\n",
       "    }\n",
       "\n",
       "    .dataframe thead th {\n",
       "        text-align: right;\n",
       "    }\n",
       "</style>\n",
       "<table border=\"1\" class=\"dataframe\">\n",
       "  <thead>\n",
       "    <tr style=\"text-align: right;\">\n",
       "      <th></th>\n",
       "      <th>PopBin</th>\n",
       "      <th>Count</th>\n",
       "      <th>States</th>\n",
       "    </tr>\n",
       "  </thead>\n",
       "  <tbody>\n",
       "    <tr>\n",
       "      <th>0</th>\n",
       "      <td>(526935.67, 4232659.0]</td>\n",
       "      <td>24</td>\n",
       "      <td>[Wyoming, Vermont, North Dakota, Alaska, South...</td>\n",
       "    </tr>\n",
       "    <tr>\n",
       "      <th>1</th>\n",
       "      <td>(4232659.0, 7901692.0]</td>\n",
       "      <td>14</td>\n",
       "      <td>[Kentucky, Louisiana, South Carolina, Alabama,...</td>\n",
       "    </tr>\n",
       "    <tr>\n",
       "      <th>2</th>\n",
       "      <td>(7901692.0, 11570725.0]</td>\n",
       "      <td>6</td>\n",
       "      <td>[Virginia, New Jersey, North Carolina, Georgia...</td>\n",
       "    </tr>\n",
       "    <tr>\n",
       "      <th>3</th>\n",
       "      <td>(11570725.0, 15239758.0]</td>\n",
       "      <td>2</td>\n",
       "      <td>[Pennsylvania, Illinois]</td>\n",
       "    </tr>\n",
       "    <tr>\n",
       "      <th>4</th>\n",
       "      <td>(15239758.0, 18908791.0]</td>\n",
       "      <td>1</td>\n",
       "      <td>[Florida]</td>\n",
       "    </tr>\n",
       "    <tr>\n",
       "      <th>5</th>\n",
       "      <td>(18908791.0, 22577824.0]</td>\n",
       "      <td>1</td>\n",
       "      <td>[New York]</td>\n",
       "    </tr>\n",
       "    <tr>\n",
       "      <th>6</th>\n",
       "      <td>(22577824.0, 26246857.0]</td>\n",
       "      <td>1</td>\n",
       "      <td>[Texas]</td>\n",
       "    </tr>\n",
       "    <tr>\n",
       "      <th>7</th>\n",
       "      <td>(26246857.0, 29915890.0]</td>\n",
       "      <td>0</td>\n",
       "      <td>[]</td>\n",
       "    </tr>\n",
       "    <tr>\n",
       "      <th>8</th>\n",
       "      <td>(29915890.0, 33584923.0]</td>\n",
       "      <td>0</td>\n",
       "      <td>[]</td>\n",
       "    </tr>\n",
       "    <tr>\n",
       "      <th>9</th>\n",
       "      <td>(33584923.0, 37253956.0]</td>\n",
       "      <td>1</td>\n",
       "      <td>[California]</td>\n",
       "    </tr>\n",
       "  </tbody>\n",
       "</table>\n",
       "</div>"
      ],
      "text/plain": [
       "                     PopBin  Count  \\\n",
       "0    (526935.67, 4232659.0]     24   \n",
       "1    (4232659.0, 7901692.0]     14   \n",
       "2   (7901692.0, 11570725.0]      6   \n",
       "3  (11570725.0, 15239758.0]      2   \n",
       "4  (15239758.0, 18908791.0]      1   \n",
       "5  (18908791.0, 22577824.0]      1   \n",
       "6  (22577824.0, 26246857.0]      1   \n",
       "7  (26246857.0, 29915890.0]      0   \n",
       "8  (29915890.0, 33584923.0]      0   \n",
       "9  (33584923.0, 37253956.0]      1   \n",
       "\n",
       "                                              States  \n",
       "0  [Wyoming, Vermont, North Dakota, Alaska, South...  \n",
       "1  [Kentucky, Louisiana, South Carolina, Alabama,...  \n",
       "2  [Virginia, New Jersey, North Carolina, Georgia...  \n",
       "3                           [Pennsylvania, Illinois]  \n",
       "4                                          [Florida]  \n",
       "5                                         [New York]  \n",
       "6                                            [Texas]  \n",
       "7                                                 []  \n",
       "8                                                 []  \n",
       "9                                       [California]  "
      ]
     },
     "execution_count": 53,
     "metadata": {},
     "output_type": "execute_result"
    }
   ],
   "source": [
    "# Step 1: Create bins\n",
    "state_df['PopBin'] = pd.cut(state_df['Population'], bins=10)\n",
    "\n",
    "# Step 2: Sort the DataFrame by population (ascending)\n",
    "state_df_sorted = state_df.sort_values('Population')\n",
    "\n",
    "# Step 3: Group by bin and collect ordered state names\n",
    "binned_summary = state_df_sorted.groupby('PopBin').agg(\n",
    "    Count=('State', 'count'),\n",
    "    States=('State', list)\n",
    ").reset_index()\n",
    "\n",
    "binned_summary"
   ]
  },
  {
   "cell_type": "markdown",
   "metadata": {},
   "source": [
    "> The least populous state is Wyoming, with 526,935 people, and the most populous state is California, with 33,584,923 people. This gives us a range of 33,584,923 - 526,935 = 33,057,988\n",
    "\n",
    "We divide that range by the number of bins to get the bin width. Each bin will have that width and count how many values fall within the bin width. Note that bin 7 and 8 contain no states. This is useful information to help us experiment with different bin sizes. If they're too large, important features of the distribution can be obscured. If they're too small, the result is too granular, and the ability to see the bigger picture is lost."
   ]
  },
  {
   "cell_type": "markdown",
   "metadata": {},
   "source": [
    "**Note**\n",
    "- Quartiles and deciles: Same count in each bin (equal-count bins), but the bin sizes will be different.\n",
    "- Frequency tables: Different counts in the bins (equal-size bins), and the bin sizes will be the same."
   ]
  },
  {
   "cell_type": "markdown",
   "metadata": {},
   "source": [
    "#### Histograms"
   ]
  },
  {
   "cell_type": "markdown",
   "metadata": {},
   "source": [
    "Histograms are a way to visualize a frequency table, with bins on the x-axis and the data count on the y-axis. "
   ]
  },
  {
   "cell_type": "code",
   "execution_count": 58,
   "metadata": {},
   "outputs": [
    {
     "data": {
      "text/plain": [
       "Text(0.5, 0, 'Population (millions)')"
      ]
     },
     "execution_count": 58,
     "metadata": {},
     "output_type": "execute_result"
    },
    {
     "data": {
      "image/png": "[encoded data removed]",
      "text/plain": [
       "<Figure size 400x400 with 1 Axes>"
      ]
     },
     "metadata": {},
     "output_type": "display_data"
    }
   ],
   "source": [
    "ax = (state_df['Population'] / 1_000_000).plot.hist(figsize=(4,4))\n",
    "\n",
    "ax.set_xlabel('Population (millions)')"
   ]
  },
  {
   "cell_type": "markdown",
   "metadata": {},
   "source": [
    "Histograms are plotted such that:\n",
    "- Empty bins are included in the graph\n",
    "- Bins are of equal width\n",
    "- The number of bins (or equivalently, bin size) is up to the user\n",
    "- Bars are contiguous - no empty space shows between bars, unless there is an empty bin"
   ]
  },
  {
   "cell_type": "markdown",
   "metadata": {},
   "source": [
    "#### Density Plots and Estimates\n",
    "\n",
    "A density plot can be though of as a smoothed histogram, although it's typically computed directly from the data through a *kernal density estimate*. "
   ]
  },
  {
   "cell_type": "markdown",
   "metadata": {},
   "source": [
    "Pandas provides the density method to create a density plot using the *bw_method* to control the smoothness of the density curve. Plot functions often take an optional axis (ax) argument, which will cause the plot to be added to the same graph."
   ]
  },
  {
   "cell_type": "code",
   "execution_count": 59,
   "metadata": {},
   "outputs": [
    {
     "data": {
      "text/plain": [
       "Text(0.5, 0, 'Murder Rate (per 100,000)')"
      ]
     },
     "execution_count": 59,
     "metadata": {},
     "output_type": "execute_result"
    },
    {
     "data": {
      "image/png": "[encoded data removed]",
      "text/plain": [
       "<Figure size 640x480 with 1 Axes>"
      ]
     },
     "metadata": {},
     "output_type": "display_data"
    }
   ],
   "source": [
    "ax = state_df['Murder.Rate'].plot.hist(\n",
    "    density=True,\n",
    "    xlim=[0, 12],\n",
    "    bins = range(1, 12)\n",
    "    )\n",
    "\n",
    "state_df['Murder.Rate'].plot.density(ax=ax)\n",
    "ax.set_xlabel('Murder Rate (per 100,000)')"
   ]
  },
  {
   "cell_type": "markdown",
   "metadata": {},
   "source": [
    "> A key distinction from the histogram is the scale of the y-axis: a density plot corresponds to plotting the histogram as a proportion rather than counts. Note that the total area under the density curve = 1, and instead of counts in bins you calculate areas under the curve between two points on the x-axis, which correspond to the proportion of the distribution lying between those two points."
   ]
  },
  {
   "cell_type": "markdown",
   "metadata": {},
   "source": [
    "## Exploring Binary and Categorical Data\n",
    "\n",
    "For categorical data, simple proportions or percentages tell the story of the data.\n",
    "\n",
    "Getting a summary of a binary variable or categorical variable with a few categories is easy: we just figure out the proportion of 1s, or the proportions of the important categories."
   ]
  },
  {
   "cell_type": "markdown",
   "metadata": {},
   "source": [
    "**Key Terms for Exploring Categorical Data**\n",
    "\n",
    "Mode\n",
    "- The most commonly occurring category or value in a data set.\n",
    "\n",
    "Expected Value\n",
    "- When the categories can be associated with a numeric value, this gives an average value based on a category's probability of occurrence.\n",
    "\n",
    "Bar charts\n",
    "- The frequency or proportion for each category plotted as bars.\n",
    "\n",
    "Pie charts\n",
    "- The frequency or proportion for each category plotted as wedges in a pie."
   ]
  },
  {
   "cell_type": "markdown",
   "metadata": {},
   "source": [
    "### Mode"
   ]
  },
  {
   "cell_type": "markdown",
   "metadata": {},
   "source": [
    "The mode is the value - or values in case of a tie - that appears most often in the data. For example, the graph below shows 'Inbound' as the mode of the cause of delay at Dallas/Forth Worth airport.\n",
    "\n",
    "Mode is a simple summary statistic for categorical data, and it's generally not used for numeric data."
   ]
  },
  {
   "cell_type": "markdown",
   "metadata": {},
   "source": [
    "Below is the percentage of delayed flights by the cause of a delay at Dallas/Fort Worth Airport in 2010. Delays are categorized as being due to factors under carrier control, air traffic control (ATC) system delays, weather, security, or a late inbound aircraft."
   ]
  },
  {
   "cell_type": "code",
   "execution_count": 60,
   "metadata": {},
   "outputs": [],
   "source": [
    "dfw = pd.read_csv('/Users/brian.v.nguyen/projects/practical_statistics_for_data_scientists/data/dfw_airline.csv')"
   ]
  },
  {
   "cell_type": "code",
   "execution_count": 61,
   "metadata": {},
   "outputs": [
    {
     "data": {
      "text/plain": [
       "Text(0, 0.5, 'Count')"
      ]
     },
     "execution_count": 61,
     "metadata": {},
     "output_type": "execute_result"
    },
    {
     "data": {
      "image/png": "[encoded data removed]",
      "text/plain": [
       "<Figure size 400x400 with 1 Axes>"
      ]
     },
     "metadata": {},
     "output_type": "display_data"
    }
   ],
   "source": [
    "ax = dfw.transpose().plot.bar(figsize=(4,4), legend=False)\n",
    "\n",
    "ax.set_xlabel('Cause of delay')\n",
    "ax.set_ylabel('Count')"
   ]
  },
  {
   "cell_type": "markdown",
   "metadata": {},
   "source": [
    "### Expected Value"
   ]
  },
  {
   "cell_type": "markdown",
   "metadata": {},
   "source": [
    "A special type of categorical data is data in which the categories represent or can be mapped to discrete values on the same scale. \n",
    "\n",
    "For example: A marketer for a new cloud technology offers two levels of service: Service A is priced at $300/month and Service B is priced at $50/month. The marketer offers webinars to generate leads, and the firm figures that 5% of attendees will sign up for the $300 service, 15% will sign up for the $50 service, and 80% will not sign up for anything. This data can be summed up, for financial purposes, in a single \"expected value\", which is a form of weighted mean, in which the weights are probabilities.\n",
    "\n",
    "The expected value is calculated as follows:\n",
    "1. Multiply each outcome by its probability of occurrence\n",
    "2. Sum these values\n",
    "\n",
    "In the cloud service example, the expected value of a webinar attendee is $22.50 per month, calculated as follows:\n",
    "EV = (0.05)(300) + (0.15)(50) + (0.80)(0) = 22.5\n",
    "\n",
    "Expected value is a fundamental concept in business valuation and capital budgeting - for example, the expected value of five years of profits from a new acquisition, or the expected cost savings from new patient management software at a clinic."
   ]
  },
  {
   "cell_type": "markdown",
   "metadata": {},
   "source": [
    "### Probability"
   ]
  },
  {
   "cell_type": "markdown",
   "metadata": {},
   "source": [
    "The probability that an event will happen is the proportion of tiems it will occur if the situation could be repeated ove rand over, countless times. "
   ]
  },
  {
   "cell_type": "markdown",
   "metadata": {},
   "source": [
    "### Correlation"
   ]
  },
  {
   "cell_type": "markdown",
   "metadata": {},
   "source": [
    "EDA in many modeling projects involves examining correlation among predictors, and between predictors and a target variable. Variables X and Y (each with measured data) are said to be positively correlated if high values of X go with high values of Y, and low values of X go wtih low values of Y. If high values of X go with low values of Y, and vice versa, the variables are negatively correlated."
   ]
  },
  {
   "cell_type": "markdown",
   "metadata": {},
   "source": [
    "**Key Terms for Correlation**\n",
    "\n",
    "Correlation coefficient\n",
    "- a metric that measures the extent to which numeric variables are associated with one another (ranges from -1 to +1)\n",
    "\n",
    "Correlation matrix\n",
    "- A table where the variables are shown on both rows and columns, and the cell values are the correlations between the variables.\n",
    "\n",
    "Scatterplot\n",
    "- A plot in which the x-axis is the value of one variable, and the y-axis the value of another."
   ]
  },
  {
   "cell_type": "markdown",
   "metadata": {},
   "source": [
    "#### Correlation Coefficient"
   ]
  },
  {
   "cell_type": "markdown",
   "metadata": {},
   "source": [
    "Simple Example\n",
    "\n",
    "Consider these two variables, perfectly correlated in the sense that each goes from low to high:\n",
    "\n",
    "- v1: {1, 2, 3}\n",
    "- v2: {4, 5, 6}\n",
    "\n",
    "The vector sum of products is (1 * 4) + (2 * 5) + (3 * 6) = 32\n",
    "\n",
    "If you try shuffling one of them and recalculating - the vector sum of products will never be higher than 32. So this sum of products could be used as a metric; that is, the observed sum of 32 could be compared to lots of random shufflings (in fact, this idea relates to a resampling-based estimate). Values produced by this metric though are not meaningful except by reference to the resampling distribution.\n",
    "\n",
    "Standardized variant, or the correlation coefficient, is more useful - which gives an estimate fo the correlation between two variables that always lies on the same scale. To compute Pearson's correlation coefficient, we multiply deviations from the mean for variable 1 times those for variable 2, and divide by the product of the standard deviations:\n",
    "\n",
    "$ r = \\frac{\\displaystyle\\sum_{i=1}^{n} (x_i - \\bar{x})(y_i - \\bar{y})}{(n - 1)s_x s_y} $"
   ]
  },
  {
   "cell_type": "markdown",
   "metadata": {},
   "source": [
    "#### Correlation Matrix"
   ]
  },
  {
   "cell_type": "code",
   "execution_count": 79,
   "metadata": {},
   "outputs": [],
   "source": [
    "# Example: Correlation Matrix Table\n",
    "\n",
    "# Import packages\n",
    "import pandas as pd\n",
    "import seaborn as sns\n",
    "import matplotlib.pyplot as plt\n",
    "\n",
    "# Import data\n",
    "sp500_sym = pd.read_csv('/Users/brian.v.nguyen/projects/practical_statistics_for_data_scientists/data/sp500_sectors.csv')\n",
    "sp500_px = pd.read_csv('/Users/brian.v.nguyen/projects/practical_statistics_for_data_scientists/data/sp500_data.csv.gz', index_col=0)"
   ]
  },
  {
   "cell_type": "code",
   "execution_count": 80,
   "metadata": {},
   "outputs": [
    {
     "name": "stdout",
     "output_type": "stream",
     "text": [
      "                   T       CTL       FTR        VZ      LVLT\n",
      "2012-07-02  0.422496  0.140847  0.070879  0.554180 -0.519998\n",
      "2012-07-03 -0.177448  0.066280  0.070879 -0.025976 -0.049999\n",
      "2012-07-05 -0.160548 -0.132563  0.055128 -0.051956 -0.180000\n",
      "2012-07-06  0.342205  0.132563  0.007875  0.140106 -0.359999\n",
      "2012-07-09  0.136883  0.124279 -0.023626  0.253943  0.180000\n",
      "...              ...       ...       ...       ...       ...\n",
      "2015-06-25  0.049342 -1.600000 -0.040000 -0.187790 -0.330002\n",
      "2015-06-26 -0.256586  0.039999 -0.070000  0.029650 -0.739998\n",
      "2015-06-29 -0.098685 -0.559999 -0.060000 -0.504063 -1.360000\n",
      "2015-06-30 -0.503298 -0.420000 -0.070000 -0.523829  0.199997\n",
      "2015-07-01 -0.019737  0.080000 -0.050000  0.355811  0.139999\n",
      "\n",
      "[754 rows x 5 columns]\n"
     ]
    }
   ],
   "source": [
    "# Table 1-7\n",
    "# Determine telecommunications symbols\n",
    "telecomSymbols = sp500_sym[sp500_sym['sector'] == 'telecommunications_services']['symbol']\n",
    "\n",
    "# Filter data for dates July 2012 through June 2015\n",
    "telecom = sp500_px.loc[sp500_px.index >= '2012-07-01', telecomSymbols]\n",
    "telecom.corr()\n",
    "print(telecom)"
   ]
  },
  {
   "cell_type": "code",
   "execution_count": null,
   "metadata": {},
   "outputs": [
    {
     "name": "stdout",
     "output_type": "stream",
     "text": [
      "                 XLI       QQQ       SPY       DIA       GLD    VXX       USO  \\\n",
      "2012-07-02 -0.376098  0.096313  0.028223 -0.242796  0.419998 -10.40  0.000000   \n",
      "2012-07-03  0.376099  0.481576  0.874936  0.728405  0.490006  -3.52  0.250000   \n",
      "2012-07-05  0.150440  0.096313 -0.103487  0.149420  0.239991   6.56 -0.070000   \n",
      "2012-07-06 -0.141040 -0.491201  0.018819 -0.205449 -0.519989  -8.80 -0.180000   \n",
      "2012-07-09  0.244465 -0.048160 -0.056445 -0.168094  0.429992  -0.48  0.459999   \n",
      "\n",
      "                 IWM       XLE       XLY       XLU       XLB       XTL  \\\n",
      "2012-07-02  0.534641  0.028186  0.095759  0.098311 -0.093713  0.019076   \n",
      "2012-07-03  0.926067  0.995942  0.000000 -0.044686  0.337373  0.000000   \n",
      "2012-07-05 -0.171848 -0.460387  0.306431 -0.151938  0.103086  0.019072   \n",
      "2012-07-06 -0.229128  0.206706  0.153214  0.080437  0.018744 -0.429213   \n",
      "2012-07-09 -0.190939 -0.234892 -0.201098 -0.035751 -0.168687  0.000000   \n",
      "\n",
      "                 XLV       XLP       XLF       XLK  \n",
      "2012-07-02 -0.009529  0.313499  0.018999  0.075668  \n",
      "2012-07-03  0.000000  0.129087  0.104492  0.236462  \n",
      "2012-07-05 -0.142955 -0.073766 -0.142490  0.066211  \n",
      "2012-07-06 -0.095304  0.119865  0.066495 -0.227003  \n",
      "2012-07-09  0.352630 -0.064548  0.018999  0.009457  \n"
     ]
    }
   ],
   "source": [
    "etfs = sp500_px.loc[sp500_px.index > '2012-07-01', \n",
    "                    sp500_sym[sp500_sym['sector'] == 'etf']['symbol']]\n",
    "print(etfs.head())"
   ]
  },
  {
   "cell_type": "code",
   "execution_count": 82,
   "metadata": {},
   "outputs": [
    {
     "data": {
      "image/png": "[encoded data removed]",
      "text/plain": [
       "<Figure size 500x400 with 2 Axes>"
      ]
     },
     "metadata": {},
     "output_type": "display_data"
    }
   ],
   "source": [
    "fig, ax = plt.subplots(figsize=(5, 4))\n",
    "ax = sns.heatmap(etfs.corr(), vmin=-1, vmax=1, \n",
    "                 cmap=sns.diverging_palette(20, 220, as_cmap=True),\n",
    "                 ax=ax)\n",
    "\n",
    "plt.tight_layout()\n",
    "plt.show()"
   ]
  },
  {
   "cell_type": "code",
   "execution_count": 83,
   "metadata": {},
   "outputs": [
    {
     "data": {
      "image/png": "[encoded data removed]",
      "text/plain": [
       "<Figure size 500x400 with 2 Axes>"
      ]
     },
     "metadata": {},
     "output_type": "display_data"
    }
   ],
   "source": [
    "# Showing a correlation matrix using ellipses\n",
    "\n",
    "from matplotlib.collections import EllipseCollection\n",
    "from matplotlib.colors import Normalize\n",
    "\n",
    "def plot_corr_ellipses(data, figsize=None, **kwargs):\n",
    "    ''' https://stackoverflow.com/a/34558488 '''\n",
    "    M = np.array(data)\n",
    "    if not M.ndim == 2:\n",
    "        raise ValueError('data must be a 2D array')\n",
    "    fig, ax = plt.subplots(1, 1, figsize=figsize, subplot_kw={'aspect':'equal'})\n",
    "    ax.set_xlim(-0.5, M.shape[1] - 0.5)\n",
    "    ax.set_ylim(-0.5, M.shape[0] - 0.5)\n",
    "    ax.invert_yaxis()\n",
    "\n",
    "    # xy locations of each ellipse center\n",
    "    xy = np.indices(M.shape)[::-1].reshape(2, -1).T\n",
    "\n",
    "    # set the relative sizes of the major/minor axes according to the strength of\n",
    "    # the positive/negative correlation\n",
    "    w = np.ones_like(M).ravel() + 0.01\n",
    "    h = 1 - np.abs(M).ravel() - 0.01\n",
    "    a = 45 * np.sign(M).ravel()\n",
    "\n",
    "    ec = EllipseCollection(widths=w, heights=h, angles=a, units='x', offsets=xy,\n",
    "                           norm=Normalize(vmin=-1, vmax=1),\n",
    "                           transOffset=ax.transData, array=M.ravel(), **kwargs)\n",
    "    ax.add_collection(ec)\n",
    "\n",
    "    # if data is a DataFrame, use the row/column names as tick labels\n",
    "    if isinstance(data, pd.DataFrame):\n",
    "        ax.set_xticks(np.arange(M.shape[1]))\n",
    "        ax.set_xticklabels(data.columns, rotation=90)\n",
    "        ax.set_yticks(np.arange(M.shape[0]))\n",
    "        ax.set_yticklabels(data.index)\n",
    "\n",
    "    return ec, ax\n",
    "\n",
    "m, ax = plot_corr_ellipses(etfs.corr(), figsize=(5, 4), cmap='bwr_r')\n",
    "cb = plt.colorbar(m, ax=ax)\n",
    "cb.set_label('Correlation coefficient')\n",
    "\n",
    "plt.tight_layout()\n",
    "plt.show()"
   ]
  },
  {
   "cell_type": "markdown",
   "metadata": {},
   "source": [
    "> The ETFs for the S&P 500 (SPY) and the Down Jones Index (DIA) have a high correlation. \n",
    "\n",
    "> Similarly, the QQQ and the XLK, mostly tech companies, are positively correlated. \n",
    "\n",
    "> Defensive ETFs (like gold, oil, or market volitility) tend to be weakly or negatively correlated with the other ETFs. \n",
    "\n",
    "> Ellipse orientation indicates positive correlation (ellipse pointed to top right) or negative correlation (ellipse pointed to top left)\n",
    "\n",
    "> Ellipse shading and width indicate association strength: thinner and darker ellipses correspond to stronger relationships."
   ]
  },
  {
   "cell_type": "markdown",
   "metadata": {},
   "source": [
    "Like mean and standard deviation, correlation coefficient is sensitive to outliers. Software packages offer robust alternatives to the classical correlation coefficient. \n",
    "\n",
    "Methods in the scikit-learn module **sklearn.covariance** implement a variety of approaches."
   ]
  },
  {
   "cell_type": "markdown",
   "metadata": {},
   "source": [
    "**Other Correlation Estimates**\n",
    "\n",
    "There are other ways to estimate correlation, but data scientists generally stick to Pearons's correlation coefficient, and its robust alternatives, for exploratory analysis. The appeal of rank-based estimates is mostly for smaller data sets and specific hypothesis tests."
   ]
  },
  {
   "cell_type": "markdown",
   "metadata": {},
   "source": [
    "#### Scatterplots"
   ]
  },
  {
   "cell_type": "markdown",
   "metadata": {},
   "source": []
  }
 ],
 "metadata": {
  "kernelspec": {
   "display_name": ".venv",
   "language": "python",
   "name": "python3"
  },
  "language_info": {
   "codemirror_mode": {
    "name": "ipython",
    "version": 3
   },
   "file_extension": ".py",
   "mimetype": "text/x-python",
   "name": "python",
   "nbconvert_exporter": "python",
   "pygments_lexer": "ipython3",
   "version": "3.13.2"
  }
 },
 "nbformat": 4,
 "nbformat_minor": 2
}
