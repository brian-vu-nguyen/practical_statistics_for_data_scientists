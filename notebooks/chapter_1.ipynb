{
 "cells": [
  {
   "cell_type": "markdown",
   "metadata": {},
   "source": [
    "# Chapter 1: Exploratory Data Analysis\n",
    "\n",
    "    Overview: This chapter focuses on the first step of any data science project: epxloring the data."
   ]
  },
  {
   "cell_type": "markdown",
   "metadata": {},
   "source": [
    "## Data Structures\n",
    "Two types of data structures:\n",
    "* Unstructured data: Images, videos, Emails, Audio files\n",
    "* Structured data: Relational databases, Spreadsheets, data tables (CSV, TSV), XML & JSON files"
   ]
  },
  {
   "cell_type": "markdown",
   "metadata": {},
   "source": [
    "***Data Types***\n",
    "\n",
    "There are two basic types of structure data: numeric and categorical.\n",
    "\n",
    "* Numeric: Data expressed on a numeric scale\n",
    "    * Continuous: Data that can take on any value in an interval \n",
    "        * Synonyms: interval, float, numeric\n",
    "        * Examples: Time, meters, miles\n",
    "    * Discrete: Data that can take only integer values\n",
    "        * Synonyms: integer, count\n",
    "        * Examples: Age, Number of students in a class, Number of rooms in a house\n",
    "\n",
    "* Categorical: Data taht can take on only a specific set of values representing a set of possible categories (Synonyms: enums, enumerated, factors, nominal)\n",
    "    * Binary: A special case of categorical data with just two categories of values\n",
    "        * Synonyms: dichotomous, logical, indicator, boolean\n",
    "        * Examples: 0 or 1, True or False\n",
    "    * Ordinal: Categorical data that has an explicit ordering.\n",
    "        * Synonyms: ordered factor\n",
    "        * Examples: (Red, Green, or Blue), (Large, Medium, Small), (Cat, Dog, Mouse), Movie ratings, levels of pain"
   ]
  },
  {
   "cell_type": "markdown",
   "metadata": {},
   "source": [
    "***Data Typing in Software***\n",
    "\n",
    "Different software will handle data types differently. As a result, it's important to know your software and how it handles data types so that practitioners can appropriately conduct analyses."
   ]
  },
  {
   "cell_type": "markdown",
   "metadata": {},
   "source": [
    "***Key Terms for Rectangular Data***\n",
    "\n",
    "Data Frame\n",
    "* Rectangular data (like a spreadsheet) is the basic data structure for statistical and machine learning models.\n",
    "\n",
    "Feature\n",
    "* A column within a table is commonly referred to as a feature\n",
    "\n",
    "Outcome\n",
    "* Many data science projects involve predicting an *outcome* - often a yes/no outcome. The features are sometimes used to predict the *outcome* in an experiment or a study.\n",
    "* Synonyms: dependent variable, response, target, otuput\n",
    "\n",
    "Records\n",
    "* A row within a table is commonly referred to as a *record*.\n",
    "* Synonyms: case, example, instance, observation, pattern, sample"
   ]
  },
  {
   "cell_type": "markdown",
   "metadata": {},
   "source": [
    "***Nonrectangular Data Structures***\n",
    "* Time-series data\n",
    "* Spacial data structures (mapping and location analytics)\n",
    "* Graph data structures (physical, social, and abstract relationships)"
   ]
  },
  {
   "cell_type": "markdown",
   "metadata": {},
   "source": [
    "## Estimates of Location\n",
    "Estimates of location are variables with measured or coutn data that might have thousands of distinct values. A basic step in exploring your data is getting a \"typical value\" for each feature (variable): an estimate of where most of the data is located (i.e., its central tendancy)."
   ]
  },
  {
   "cell_type": "markdown",
   "metadata": {},
   "source": [
    "**Key Terms for Estimates of Location**\n",
    "\n",
    "Mean\n",
    ">The sum of all values divided by the number of values.\n",
    ">>Synonym: average\n",
    "\n",
    "Weighted mean\n",
    ">The sum of all values times a weight divided by the sum of the weights.\n",
    ">>Synonym: weighted average\n",
    "\n",
    "Median\n",
    ">The value such that one-half of the data lies above and below.\n",
    ">>Synonym: 50th percentile\n",
    "\n",
    "Percentile\n",
    ">The value such that *P* percent of the data lies below.\n",
    ">>Synonym: quantile\n",
    "\n",
    "Weighted median\n",
    ">The value such that one-half of the sum of the weights lies above and below the sorted data.\n",
    "\n",
    "Trimmed mean\n",
    ">The average of all values after dropping a fixed number of extreme values.\n",
    ">>Synonym: truncated mean\n",
    "\n",
    "Robust\n",
    ">Not sensitive to extreme values.\n",
    ">>Synonym: resistant\n",
    "\n",
    "Outlier\n",
    ">A data value that is very different from most of the data.\n",
    ">>Synonym: extreme value"
   ]
  },
  {
   "cell_type": "markdown",
   "metadata": {},
   "source": [
    "**Mean**\n",
    "\n",
    "$\n",
    "\\bar{x} = \\frac{1}{n}\\sum_{i=1}^{n} x_i\n",
    "$\n",
    "\n",
    "The most basic estimate of location is the mean, or *average* value. The mean is the sum of all values divided by the number of values. Consider the following set of numbers: {3, 5, 1, 2}. \n",
    "\n",
    "The mean is \n",
    "= (3 + 5 + 1 + 2) / 4 \n",
    "= 11 / 4\n",
    "= 2.75"
   ]
  },
  {
   "cell_type": "markdown",
   "metadata": {},
   "source": [
    "**Trimmed mean**\n",
    "\n",
    "$ \\bar{x} = \\dfrac{\\displaystyle\\sum_{i=p+1}^{\\,n-p} x_{(i)}}{n - 2p} $\n",
    "\n",
    "A variation of the mean is a *trimmed mean*, which you calculate by dropping a fixed number of sorted values at each end and then taking an average of the remaining values. Representing the sorted values by $x_{(1)}, x_{(2)}... x_{(n)}$ where $x_{(1)}$ is the smallest value and $x_{(n)}$ is the largest.\n",
    "\n",
    "A trimmed mean eliminates the influence of extreme values. For example, in international diving the top and bottom scores from five judges are dropped, and the final score is the average of the scores from the three remaining judges. This makes it difficult for a single judge to manipulate the score, perhaps to favor their country's contestant. Trimmed means are widely used, and in many cases are preferable to using the ordinary mean. "
   ]
  },
  {
   "cell_type": "markdown",
   "metadata": {},
   "source": [
    "**Weighted Mean**\n",
    "\n",
    "$ \\bar{x}_w = \\dfrac{\\displaystyle\\sum_{i=1}^{n} w_i x_i}{\\displaystyle\\sum_{i=1}^{n} w_i} $\n",
    "\n",
    "Another type of mean is a *weighted mean*, which you calculate by multiplying each data value $x_{(i)}$ by a user-specified weight $w_{(i)}$ and dividing their sum by the sum of the weights. \n",
    "\n",
    "There are two (2) main motivations for using a weighted mean:\n",
    "1. Some values are intrinsically more variable than others, and highly variable observations are given a lower weight. For example, if we are taking the average from multiple sensors and one of the sensors is less accurate, then we might downweight the data from that sensor.\n",
    "2. The data collected does not equally represent the different groups that we are interested in measuring. For example, because of the way an online experiment was conducted, we may not have a set of data that accurately reflects all groups in the user base. To correct that, we can give a higher weight to the values from the groups that were underrepresented. "
   ]
  },
  {
   "cell_type": "markdown",
   "metadata": {},
   "source": [
    "**Median and Robust Estimates**\n",
    "\n",
    "The *median* is the middle number on a sorted list of the data. If there is an even number of data values, the middle value is one that is not actually in the data set, but rather the average of the two values that divide the sorted data into upper and lower halves. Compared to the mean, which uses all observations, the median depends only on the values in the center of the sorted data. While this might seem to be a disadvantage, since the mean is much more sensitive to the data, there are many instances in which the median is a better metric for estimating location. Let's say we want to look at typical household incomes in neighborhoods around Lake Washington in Seattle. In comparing the Medina neighborhood to the Windermere neighborhood, using the mean would produce very different results because Bill Gates lives in Medina. If we use the median, it won't matter how rich Bill Gates is - the position of the middle observation will remain the same.\n",
    "\n",
    "For the same reasons one uses a weighted mean, it's also possible to compute a *weighted median*. As with the median, we first sort the data, although each data value has an associated weight. Instead of the middle number, the weighted median is a value such that the sum of the weights is equal for the lower and upper halves of the sorted list. Like the median, the weighted median is robust to outliers."
   ]
  },
  {
   "cell_type": "markdown",
   "metadata": {},
   "source": [
    "**Outliers**\n",
    "\n",
    "The median is referred to as a *robust* estimate of location since it's not influenced by *outliers* (extreme cases) that could skew the results. An outlier is any value that is very distant from the other values in a data set. \n",
    "\n",
    "An outlier itself doesn't make a data value invalid or erroneous (like the Bill Gates example). Still, outliers are often the result of data errors such as mixing data of different units (kilometers vs. meters) or bad readings from a sensor. When outliers are the result of bad data, the mean will result in a poor location estimate, while the median will still be valid. In any case, outliers should be identified and are usually worthy of further investigation.\n",
    "\n",
    "> Anomaly Detection\n",
    ">>In contrast to typical data analysis, where outliers are somtimes informative and sometimes a nuisance, in *anomaly detection* the points of interest are the outliers, and the greater mass of data serves primarily to define the \"normal\" against which anomalies are measured."
   ]
  },
  {
   "cell_type": "code",
   "execution_count": 19,
   "metadata": {},
   "outputs": [],
   "source": [
    "import pandas as pd\n",
    "from scipy import stats"
   ]
  },
  {
   "cell_type": "code",
   "execution_count": 8,
   "metadata": {},
   "outputs": [
    {
     "data": {
      "text/html": [
       "<div>\n",
       "<style scoped>\n",
       "    .dataframe tbody tr th:only-of-type {\n",
       "        vertical-align: middle;\n",
       "    }\n",
       "\n",
       "    .dataframe tbody tr th {\n",
       "        vertical-align: top;\n",
       "    }\n",
       "\n",
       "    .dataframe thead th {\n",
       "        text-align: right;\n",
       "    }\n",
       "</style>\n",
       "<table border=\"1\" class=\"dataframe\">\n",
       "  <thead>\n",
       "    <tr style=\"text-align: right;\">\n",
       "      <th></th>\n",
       "      <th>State</th>\n",
       "      <th>Population</th>\n",
       "      <th>Murder.Rate</th>\n",
       "      <th>Abbreviation</th>\n",
       "    </tr>\n",
       "  </thead>\n",
       "  <tbody>\n",
       "    <tr>\n",
       "      <th>0</th>\n",
       "      <td>Alabama</td>\n",
       "      <td>4779736</td>\n",
       "      <td>5.7</td>\n",
       "      <td>AL</td>\n",
       "    </tr>\n",
       "    <tr>\n",
       "      <th>1</th>\n",
       "      <td>Alaska</td>\n",
       "      <td>710231</td>\n",
       "      <td>5.6</td>\n",
       "      <td>AK</td>\n",
       "    </tr>\n",
       "    <tr>\n",
       "      <th>2</th>\n",
       "      <td>Arizona</td>\n",
       "      <td>6392017</td>\n",
       "      <td>4.7</td>\n",
       "      <td>AZ</td>\n",
       "    </tr>\n",
       "    <tr>\n",
       "      <th>3</th>\n",
       "      <td>Arkansas</td>\n",
       "      <td>2915918</td>\n",
       "      <td>5.6</td>\n",
       "      <td>AR</td>\n",
       "    </tr>\n",
       "    <tr>\n",
       "      <th>4</th>\n",
       "      <td>California</td>\n",
       "      <td>37253956</td>\n",
       "      <td>4.4</td>\n",
       "      <td>CA</td>\n",
       "    </tr>\n",
       "  </tbody>\n",
       "</table>\n",
       "</div>"
      ],
      "text/plain": [
       "        State  Population  Murder.Rate Abbreviation\n",
       "0     Alabama     4779736          5.7           AL\n",
       "1      Alaska      710231          5.6           AK\n",
       "2     Arizona     6392017          4.7           AZ\n",
       "3    Arkansas     2915918          5.6           AR\n",
       "4  California    37253956          4.4           CA"
      ]
     },
     "execution_count": 8,
     "metadata": {},
     "output_type": "execute_result"
    }
   ],
   "source": [
    "state_df = pd.read_csv(\"/Users/brian.v.nguyen/projects/practical_statistics_for_data_scientists/data/state.csv\")\n",
    "state_df.head(5)"
   ]
  },
  {
   "cell_type": "markdown",
   "metadata": {},
   "source": [
    "Compute the mean, trimmed mean, and median for the population"
   ]
  },
  {
   "cell_type": "code",
   "execution_count": null,
   "metadata": {},
   "outputs": [
    {
     "name": "stdout",
     "output_type": "stream",
     "text": [
      "Average: 6162876.3\n",
      "Median: 4436369.5\n",
      "Trimmed Average: 4783697.125\n"
     ]
    }
   ],
   "source": [
    "avg = state_df['Population'].mean()\n",
    "med = state_df['Population'].median()\n",
    "trimmed_avg = stats.trim_mean(state_df['Population'], 0.1)\n",
    "\n",
    "print(f\"Average: {avg}\")\n",
    "print(f\"Median: {med}\")\n",
    "print(f\"Trimmed Average: {trimmed_avg}\")"
   ]
  },
  {
   "cell_type": "markdown",
   "metadata": {},
   "source": [
    "Compute the weighted average murder rate"
   ]
  },
  {
   "cell_type": "code",
   "execution_count": 23,
   "metadata": {},
   "outputs": [],
   "source": [
    "import numpy as np\n",
    "import wquantiles # pip3 install wquantiles"
   ]
  },
  {
   "cell_type": "code",
   "execution_count": 27,
   "metadata": {},
   "outputs": [
    {
     "name": "stdout",
     "output_type": "stream",
     "text": [
      "Weighted Avg. Murder Rate using NumPy: 4.445833981123393\n",
      "Weighted Avg. Murder Rate using wquantiles: 4.4\n"
     ]
    }
   ],
   "source": [
    "np_weighted_avg_murder_rate = np.average(\n",
    "    state_df['Murder.Rate'],\n",
    "    weights=state_df['Population']\n",
    "    )\n",
    "\n",
    "wquantiles_weighted_avg_murder_rate = wquantiles.median(\n",
    "    state_df['Murder.Rate'],\n",
    "    weights=state_df['Population']\n",
    "    )\n",
    "\n",
    "print(f\"Weighted Avg. Murder Rate using NumPy: {np_weighted_avg_murder_rate}\")\n",
    "print(f\"Weighted Avg. Murder Rate using wquantiles: {wquantiles_weighted_avg_murder_rate}\")"
   ]
  },
  {
   "cell_type": "markdown",
   "metadata": {},
   "source": [
    "## Estimates of Variability\n",
    "\n",
    "Location is just one dimension of summarizing a feature. A second dimension, variability, also referred to as *dispersion*, measures whether the data values are tightly clustered or spread out. At the heart of statistics lies variability: measuring it, reducing it, distinguishing random from real variability, identifying the various sources of real variability, and making decisions in the presence of it."
   ]
  },
  {
   "cell_type": "markdown",
   "metadata": {},
   "source": [
    "**Key Terms for Estimates of Variability**\n",
    "\n",
    "Deviations\n",
    ">The difference between the observed values and the estimate of location.\n",
    ">>Synonym: errors, residuals\n",
    "\n",
    "Variance\n",
    ">The sum of squared deviations form the mean divided by n - 1, where *n* is the number of data values.\n",
    ">>Synonym: mean-squared-error\n",
    "\n",
    "Standard deviation\n",
    ">The square root of the variance.\n",
    "\n",
    "Mean absolute deviation\n",
    ">The mean of the absolute values of the deviations from the mean.\n",
    ">>Synonym: l1-norm, Manhattan norm\n",
    "\n",
    "Median absolute deviation from the median\n",
    ">The median of the absolute values of the deviations from the mean.\n",
    "\n",
    "Range\n",
    ">The difference between the largest and the smallest value in a data set.\n",
    "\n",
    "Order statistics\n",
    ">Metrics based on the data values sorted from smallest to biggest.\n",
    ">>Synonym: ranks\n",
    "\n",
    "Percentile\n",
    ">The value such that *P* percent of the values take on this value or less and (100 - P) percent take on this value or more.\n",
    ">>Synonym: quantile\n",
    "\n",
    "Interquartile range\n",
    ">The difference between the 75th percentile and the 25th percentile.\n",
    ">>Synonym: IQR"
   ]
  },
  {
   "cell_type": "markdown",
   "metadata": {},
   "source": [
    "**Standard Deviation and Related Estimates**\n",
    "\n",
    "The most widely used estimates of variation are based on the differences, or *deviations*, between the estimate of location and the observed data. For a set of data {1, 4, 4}, the mean is 3 and the median is 4. The deviations from the mean are the differences: 1 - 3 = -2, 4 - 3 = 1, 4 - 3 = 1.\n",
    "\n",
    "These deviations tell us how dispersed the data is around the central value.\n",
    "\n",
    "One way to measure variability is to estimate a typical value for these deviations. Averaging the deviations themselves would not tell us much - the negative deviations offset the positive ones. In fact, the sum of the deviations from the mean is precisely zero. Instead, a simple approach is to take the average of the absolute values of the deviations from the mean. In the preceding example, the absolute value of the deviations is {2, 1, 1}, and their average is (2+1+1) / 3 = 1.33. This is known as the *mean absolute deviation* and is computed with the formula:\n",
    "\n",
    "$ \\text{Mean absolute deviation} = \\frac{\\displaystyle\\sum_{i=1}^{n} \\left| x_i - \\bar{x} \\right|}{n} $\n",
    "\n",
    "where $x$ is the sample mean.\n",
    "\n",
    "\n",
    "Best-known estimates of variability:\n",
    "* Variance: an average of the squared deviations\n",
    "* Standard deviation: square root of the variance\n",
    "\n",
    "$ \\text{Variance} = s^2 = \\frac{\\displaystyle\\sum_{i=1}^{n} (x_i - \\bar{x})^2}{n - 1} $\n",
    "\n",
    "$ \\text{Standard deviation} = s = \\sqrt{\\text{Variance}} $\n",
    "\n",
    "\n",
    "The standard deviation is easier to interpret than the variance since it is on the same scale as the original data. Still, with its more complicated and less intuitive formula, it might seem peculiar that the standard deviation is preferred in statistics over the mean absolute deviation. It owes preeiminence to statistical theory: mathematically, working with squared values is more convenient than absolute values, especially for statistical models.\n",
    "\n",
    "Neither the variance, standard deviation, nor the mean absolute deviation is robust to outliers and extreme values. The variance and standard deviation are especially sensitive to outliers since they are based on squared deviations. \n",
    "\n",
    "A robust estimate of variability is the *mean absolute deviation from the median* or MAD: \n",
    "$ \\text{Median absolute deviation} = \\text{Median} \\left( |x_1 - m|,\\ |x_2 - m|,\\ \\ldots,\\ |x_n - m| \\right) $\n",
    "\n",
    "where $m$ is the median. Like the median, the MAD is not influenced by extreme values. It's also possible to compute a trimmed standard deviation analogous to the trimmed mean."
   ]
  },
  {
   "cell_type": "markdown",
   "metadata": {},
   "source": [
    "## Estimates Based on Percentiles\n",
    "\n",
    "A different approach to estimating dispersion is based on looking at the spread of the sorted data. Statistics based on sorted(ranked) data are referred to as *order statistics*. "
   ]
  },
  {
   "cell_type": "markdown",
   "metadata": {},
   "source": [
    "Basic --> range: the difference between the largest and smallest numbers\n",
    "\n",
    "Finding the minimum and maximum values is useful, but the range is extremely sensitive to outliers and it's not very useful as a general measure of dispersion in the data.\n",
    "\n",
    "To avoid the sensitivity of outliers, we can look at the range of the data after dropping values from each end i.e. *percentiles*. In a data set, the *P*th percentile is a value such that at least *P* percent of the values take on this value or less and at least (100 - P) percent of the values take on this value or more. For example, to find the 80th percentile:\n",
    "1. Sort the data\n",
    "2. Start with the smallest value\n",
    "3. Proceed to 80% of the way to the largest value\n",
    "\n",
    ">Note: Median is the same as the 50th percentile\n",
    "\n",
    "The percentile is the same as a quantile, with quantiles indexed by fractions (so .8 quantile is the same as the 80th percentile)\n",
    "\n",
    "A common measurement of variability is the *interquartile range (or IQR)*: the difference between the 25th & 75th percentile."
   ]
  },
  {
   "cell_type": "markdown",
   "metadata": {},
   "source": [
    "**Example: Variability Estimates of State Population**\n",
    "\n",
    "Compute the standard deviation, 25th Percentile, 75th Percentile, IQR, and robust MAD"
   ]
  },
  {
   "cell_type": "code",
   "execution_count": 33,
   "metadata": {},
   "outputs": [],
   "source": [
    "import statsmodels\n",
    "from statsmodels.robust.scale import mad"
   ]
  },
  {
   "cell_type": "code",
   "execution_count": 41,
   "metadata": {},
   "outputs": [
    {
     "name": "stdout",
     "output_type": "stream",
     "text": [
      "Standard Deviation:  6848235.347401142\n",
      "25th Percentile:     1833004.25\n",
      "75th Percentile:     6680312.25\n",
      "Interquartile Range: -4847308.0\n",
      "Robust MAD:          3849876.1459979336\n"
     ]
    }
   ],
   "source": [
    "population_std = state_df['Population'].std()\n",
    "population_25_percentile = state_df['Population'].quantile(0.25)\n",
    "population_75_percentile = state_df['Population'].quantile(0.75)\n",
    "pop_iqr = population_25_percentile - population_75_percentile\n",
    "population_mad = mad(state_df['Population']) \n",
    "\n",
    "print(f\"Standard Deviation:  {population_std}\")\n",
    "print(f\"25th Percentile:     {population_25_percentile}\")\n",
    "print(f\"75th Percentile:     {population_75_percentile}\")\n",
    "print(f\"Interquartile Range: {pop_iqr}\")\n",
    "print(f\"Robust MAD:          {population_mad}\")\n"
   ]
  },
  {
   "cell_type": "markdown",
   "metadata": {},
   "source": [
    "**Key Takeaways**\n",
    "> Variance and standard deviation are the most widespread and routinely reported statistics of variability\n",
    "\n",
    "> Both are sensitive to outliers\n",
    "\n",
    "> More robust metrics include mean absolute deviation, median absolute deviation from the median, and percentiles (quantiles)"
   ]
  },
  {
   "cell_type": "markdown",
   "metadata": {},
   "source": [
    "## Exploring the Data Distribution\n",
    "\n",
    "Each of the above estimates sums up the data in a single number to describe the location or variability of the data. It's also useful to explore how the data is distributed overall."
   ]
  },
  {
   "cell_type": "markdown",
   "metadata": {},
   "source": [
    "**Key Terms for Exploring the Distribution**\n",
    "\n",
    "Boxplot\n",
    "- A plot introduced by Tukey as a quick way to visualize the distribution of the data\n",
    "- Synonym: box and wiskers plot\n",
    "\n",
    "Frequency table\n",
    "- A tally of the count and numeric data values that fall into a set of intervals (bins)\n",
    "\n",
    "Histogram\n",
    "- A plot of the frequency table with the bins on the x-axis and the count (or proportion) on the y-axis. While visually similar, bar charts should not be confused with histograms. \n",
    "\n",
    "Density plot\n",
    "- A smoothed version of the histogram, often based on a *kernal density estimate*."
   ]
  },
  {
   "cell_type": "markdown",
   "metadata": {},
   "source": [
    "**Percentiles and Boxplots**\n",
    "\n",
    "Percentiles\n",
    "- Valuable for summarizing the entire distribution\n",
    "- Quartiles (25th, 50th, 75th percentiles)\n",
    "- Deciles (10th, 20th,..., 90th percentiles)\n",
    "- Valuable for summarizing the *tails* (outer range) of the distribution"
   ]
  },
  {
   "cell_type": "code",
   "execution_count": 45,
   "metadata": {},
   "outputs": [
    {
     "data": {
      "text/plain": [
       "0.05    1.600\n",
       "0.25    2.425\n",
       "0.50    4.000\n",
       "0.75    5.550\n",
       "0.95    6.510\n",
       "Name: Murder.Rate, dtype: float64"
      ]
     },
     "execution_count": 45,
     "metadata": {},
     "output_type": "execute_result"
    }
   ],
   "source": [
    "state_df['Murder.Rate'].quantile([0.05, 0.25, 0.5, 0.75, 0.95])"
   ]
  },
  {
   "cell_type": "markdown",
   "metadata": {},
   "source": [
    "> The median is 4 murders per 100,000 people, although there is quite a bit of variability: the 5th percentile is only 1.6 and the 95th percentile is 6.51."
   ]
  },
  {
   "cell_type": "code",
   "execution_count": 46,
   "metadata": {},
   "outputs": [
    {
     "data": {
      "text/plain": [
       "Text(0, 0.5, 'Population (millions)')"
      ]
     },
     "execution_count": 46,
     "metadata": {},
     "output_type": "execute_result"
    },
    {
     "data": {
      "image/png": "[encoded data removed]",
      "text/plain": [
       "<Figure size 640x480 with 1 Axes>"
      ]
     },
     "metadata": {},
     "output_type": "display_data"
    }
   ],
   "source": [
    "ax = (\n",
    "    state_df['Population']/1_000_000\n",
    ").plot.box()\n",
    "\n",
    "ax.set_ylabel('Population (millions)')"
   ]
  },
  {
   "cell_type": "markdown",
   "metadata": {},
   "source": [
    "> From this boxplot we can immediately see that the median state population is about 5 million, half the states fall between about 2 and 7 million, and there are some high population outliers. The top and bottom of the box are the 75th and 25th percentiles, respectively. The median is shown by the horizontal line in the box. The lines, or *whiskers*, extend from the top and bottom fo the box to indicate the range for the bulk of the data. There are many variations of a boxplot. By default, *Matplotlib* extends the whiskers to the furthest point beyond the box, except that it will not go beyond 1.5 times the IQR. Any data outside of the whiskers is plotted as single points or circles (often considered as outliers)."
   ]
  }
 ],
 "metadata": {
  "kernelspec": {
   "display_name": ".venv",
   "language": "python",
   "name": "python3"
  },
  "language_info": {
   "codemirror_mode": {
    "name": "ipython",
    "version": 3
   },
   "file_extension": ".py",
   "mimetype": "text/x-python",
   "name": "python",
   "nbconvert_exporter": "python",
   "pygments_lexer": "ipython3",
   "version": "3.13.2"
  }
 },
 "nbformat": 4,
 "nbformat_minor": 2
}
