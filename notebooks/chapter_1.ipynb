{
 "cells": [
  {
   "cell_type": "markdown",
   "metadata": {},
   "source": [
    "# Chapter 1: Exploratory Data Analysis\n",
    "\n",
    "    Overview: This chapter focuses on the first step of any data science project: epxloring the data."
   ]
  },
  {
   "cell_type": "markdown",
   "metadata": {},
   "source": [
    "## Data Structures\n",
    "Two types of data structures:\n",
    "* Unstructured data: Images, videos, Emails, Audio files\n",
    "* Structured data: Relational databases, Spreadsheets, data tables (CSV, TSV), XML & JSON files"
   ]
  },
  {
   "cell_type": "markdown",
   "metadata": {},
   "source": [
    "***Data Types***\n",
    "\n",
    "There are two basic types of structure data: numeric and categorical.\n",
    "\n",
    "* Numeric: Data expressed on a numeric scale\n",
    "    * Continuous: Data that can take on any value in an interval \n",
    "        * Synonyms: interval, float, numeric\n",
    "        * Examples: Time, meters, miles\n",
    "    * Discrete: Data that can take only integer values\n",
    "        * Synonyms: integer, count\n",
    "        * Examples: Age, Number of students in a class, Number of rooms in a house\n",
    "\n",
    "* Categorical: Data taht can take on only a specific set of values representing a set of possible categories (Synonyms: enums, enumerated, factors, nominal)\n",
    "    * Binary: A special case of categorical data with just two categories of values\n",
    "        * Synonyms: dichotomous, logical, indicator, boolean\n",
    "        * Examples: 0 or 1, True or False\n",
    "    * Ordinal: Categorical data that has an explicit ordering.\n",
    "        * Synonyms: ordered factor\n",
    "        * Examples: (Red, Green, or Blue), (Large, Medium, Small), (Cat, Dog, Mouse), Movie ratings, levels of pain"
   ]
  },
  {
   "cell_type": "markdown",
   "metadata": {},
   "source": [
    "***Data Typing in Software***\n",
    "\n",
    "Different software will handle data types differently. As a result, it's important to know your software and how it handles data types so that practitioners can appropriately conduct analyses."
   ]
  },
  {
   "cell_type": "markdown",
   "metadata": {},
   "source": [
    "***Key Terms for Rectangular Data***\n",
    "\n",
    "Data Frame\n",
    "* Rectangular data (like a spreadsheet) is the basic data structure for statistical and machine learning models.\n",
    "\n",
    "Feature\n",
    "* A column within a table is commonly referred to as a feature\n",
    "\n",
    "Outcome\n",
    "* Many data science projects involve predicting an *outcome* - often a yes/no outcome. The features are sometimes used to predict the *outcome* in an experiment or a study.\n",
    "* Synonyms: dependent variable, response, target, otuput\n",
    "\n",
    "Records\n",
    "* A row within a table is commonly referred to as a *record*.\n",
    "* Synonyms: case, example, instance, observation, pattern, sample"
   ]
  },
  {
   "cell_type": "markdown",
   "metadata": {},
   "source": [
    "***Nonrectangular Data Structures***\n",
    "* Time-series data\n",
    "* Spacial data structures (mapping and location analytics)\n",
    "* Graph data structures (physical, social, and abstract relationships)"
   ]
  },
  {
   "cell_type": "markdown",
   "metadata": {},
   "source": [
    "## Estimates of Location"
   ]
  },
  {
   "cell_type": "markdown",
   "metadata": {},
   "source": [
    "**Key Terms for Estimates of Location**\n",
    "\n",
    "Mean\n",
    "- The sum of all values divided by the number of values.\n",
    "- Synonym: average\n",
    "\n",
    "Weighted mean\n",
    "- The sum of all values times a weight divided by the sum of the weights.\n",
    "- Synonym: weighted average\n",
    "\n",
    "Median\n",
    "- The value such that one-half of the data lies above and below.\n",
    "- Synonym: 50th percentile\n",
    "\n",
    "Percentile\n",
    "- The value such that *P* percent of the data lies below.\n",
    "- Synonym: quantile\n",
    "\n",
    "Weighted median\n",
    "- "
   ]
  },
  {
   "cell_type": "code",
   "execution_count": 1,
   "metadata": {},
   "outputs": [],
   "source": [
    "import pandas as pd"
   ]
  }
 ],
 "metadata": {
  "kernelspec": {
   "display_name": ".venv",
   "language": "python",
   "name": "python3"
  },
  "language_info": {
   "codemirror_mode": {
    "name": "ipython",
    "version": 3
   },
   "file_extension": ".py",
   "mimetype": "text/x-python",
   "name": "python",
   "nbconvert_exporter": "python",
   "pygments_lexer": "ipython3",
   "version": "3.13.2"
  }
 },
 "nbformat": 4,
 "nbformat_minor": 2
}
