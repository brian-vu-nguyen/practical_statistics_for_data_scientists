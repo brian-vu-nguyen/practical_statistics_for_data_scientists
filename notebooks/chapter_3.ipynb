{
 "cells": [
  {
   "cell_type": "markdown",
   "id": "ca54b003",
   "metadata": {},
   "source": [
    "# Chapter 3: Statistical Experiments and Significance Testing"
   ]
  },
  {
   "cell_type": "markdown",
   "id": "28796645",
   "metadata": {},
   "source": [
    "`This chapter focuses on designing experiments to confirm or reject a hypothesis.`"
   ]
  },
  {
   "cell_type": "markdown",
   "id": "e3b4ccfc",
   "metadata": {},
   "source": [
    "Statistical inference is the intention of applying statistical results from an experiment, with a limited set of data, to a larger population or process.\n",
    "\n",
    "Below is the classical statistical inference pipeline:\n",
    "\n",
    "1. Formulate hypothesis\n",
    "2. Design experiment\n",
    "3. Collect data\n",
    "4. Inference/conclusions"
   ]
  },
  {
   "cell_type": "markdown",
   "id": "10b95474",
   "metadata": {},
   "source": [
    "## A/B Testing"
   ]
  },
  {
   "cell_type": "markdown",
   "id": "2a6ab8f3",
   "metadata": {},
   "source": [
    "An A/B test is an experiment with two groups to establish which of two treatments, products, procedures, or the like is superior. One group is often the pre-existing group, or control group, while the other is the treatment group. A typical hypothesis is that a new treatment is better than the control."
   ]
  },
  {
   "cell_type": "markdown",
   "id": "b5c545e1",
   "metadata": {},
   "source": [
    "**Key Terms for A/B Testing**\n",
    "\n",
    "Treatment\n",
    "- something (drug, price, web headline) to which a subject is exposed\n",
    "\n",
    "Treatment group\n",
    "- A group of subjects exposed to a specific treatment\n",
    "\n",
    "Control group\n",
    "- A group of subjects exposed to no (or standard) treatment\n",
    "\n",
    "Randomization\n",
    "- The process of randomly assigning subjects to treatments\n",
    "\n",
    "Subjects\n",
    "- The items (web visitors, patients, etc.) that are exposed to treatments\n",
    "\n",
    "Test statistic\n",
    "- The metric used to measure the effect of the treatment"
   ]
  },
  {
   "cell_type": "markdown",
   "id": "40d95ecd",
   "metadata": {},
   "source": [
    "**Key Ideas**\n",
    "- Identifying the correct way to hypothesize what you're testing\n",
    "- Identify your subjects and success metric ahead of time\n",
    "- Make sure you randomize subjects\n",
    "- Make sure you receive permission from human subjects if the experiment has moral and ethical components"
   ]
  },
  {
   "cell_type": "markdown",
   "id": "5e761f8f",
   "metadata": {},
   "source": [
    "## Hypothesis Tests"
   ]
  },
  {
   "cell_type": "markdown",
   "id": "958c9dfb",
   "metadata": {},
   "source": [
    "Hypothesis tests, or *significance tests*, help you learn whether random chance might be responsible for an observed effect."
   ]
  },
  {
   "cell_type": "markdown",
   "id": "af46fdef",
   "metadata": {},
   "source": [
    "**Key Terms for Hypothesis Tests**\n",
    "\n",
    "Null hypothesis\n",
    "- The hypothesis that chance is to blame\n",
    "\n",
    "Alternative hypothesis\n",
    "- Counterpoint to the null (what you hope to prove)\n",
    "\n",
    "One-way test\n",
    "- Hypothesis test that counts chance results only in one direction\n",
    "\n",
    "Two-way test\n",
    "- Hypothesis test that counts chance results in two directions"
   ]
  },
  {
   "cell_type": "markdown",
   "id": "ce527a92",
   "metadata": {},
   "source": [
    "**Key Ideas**\n",
    "- Statistical hypothesis testing was invented to protect researchers from being fooled by random chance. \n",
    "- Properly designed A/B tests will have an observed difference between A and B must be due to either:\n",
    "    1. Random chance in assignment of subjects\n",
    "    2. A true difference between A and B"
   ]
  },
  {
   "cell_type": "markdown",
   "id": "da716ac4",
   "metadata": {},
   "source": [
    "**Null Hypothesis**\n",
    "\n",
    "Our baseline assumption is that the treatments are equivalent, and any difference between the groups is due to chance. This is called the *null hypothesis*. \n",
    "\n",
    "Our hope is to prove the null hypothesis is wrong and show that the outcomes for groups A and B are more different than what chance might produce.\n",
    "\n",
    "One way to do this is through a random sampling procedure, where we shuffle together the results from groups A and B and then repeatedly deal out the data in groups of similar sizes, then observe how often we get a difference as extreme as the observed difference. The combined shuffled results from groups A and B, and the procedure of resampling from them, holds the null hypothesis of groups A and B being equivalent and interchangeable and is termed the *null model*. "
   ]
  },
  {
   "cell_type": "markdown",
   "id": "45169bbc",
   "metadata": {},
   "source": [
    "**Alternative Hypothesis**\n",
    "\n",
    "Hypothesis tests also have an alternative hypothesis, which is the opposite of the null hypothesis. Together, the null and alternative hypotheses must account for all possibilities. \n",
    "\n",
    "Examples:\n",
    "- Null = \"no difference between the means of group A and group B; Alternative = \"A is different from B\" (could be bigger or smaller)\n",
    "- Null = A < B; Alternative = A > B\n",
    "- Null = \"B is not X% greater than A; Alternative = \"B is X% greater than A\""
   ]
  },
  {
   "cell_type": "markdown",
   "id": "47224027",
   "metadata": {},
   "source": [
    "**One-Way versus Two-Way Hypothesis Tests**\n",
    "\n",
    "*One-Way Test*\n",
    "\n",
    "You want to have a *directional* alternative hypothesis where extreme chance results are only in one direction that count toward the p-value. This is called a one-way (or one-tail) hypothesis test. This protects you from being fooled by chance in the other direction, because you won't be stickign with A unless B proves definitively better.\n",
    "\n",
    "*Two-Way Test*\n",
    "\n",
    "Two-way tests will protect you from being fooled by chance in either direction, where the alternative hypothesis is *bidirectional*. This means that extreme chance results in either direction count toward the p-value."
   ]
  },
  {
   "cell_type": "markdown",
   "id": "e4794fe8",
   "metadata": {},
   "source": [
    "*Practically...*\n",
    "\n",
    "A one-tail hypothesis test often fits the nature of A/B decision making. A decision is required, one option is the default ground truth unless the other option proves better."
   ]
  },
  {
   "cell_type": "markdown",
   "id": "27624528",
   "metadata": {},
   "source": [
    "**Key Ideas**\n",
    "- A null hypothesis is a logical construct embodying the notion that nothing special happened, and any effect you observe is due to random chance.\n",
    "- The hypothesis test assumes the null hypothesis is true, creates a \"null model\" (a probability model), and tests whether the effect you observe is a reasonable outcome of that model."
   ]
  },
  {
   "cell_type": "markdown",
   "id": "0a97797d",
   "metadata": {},
   "source": [
    "## Resampling"
   ]
  },
  {
   "cell_type": "markdown",
   "id": "16c59ec1",
   "metadata": {},
   "source": [
    "Resampling means to repeatedly sample values from observed data, with a general goal of assessing random variability in a statistic. It can also be used to assess and improve teh accuracy of some machine-learning models (e.g., the predictions from decision tree models built on multiple bootstrapped data sets can be averaged in a process known as *bagging*)\n",
    "\n",
    "Two main resampling procedures:\n",
    "1. Bootstrap - used to assess the reliability of an estimate\n",
    "2. Permutation tests - used to test hypotheses, typically involving two or more groups"
   ]
  },
  {
   "cell_type": "markdown",
   "id": "12c0ca7a",
   "metadata": {},
   "source": [
    "**Key Terms for Resampling**\n",
    "\n",
    "Permutation test\n",
    "- The procedure of combining two or more samples together and randomly reallocating the observations to resamples\n",
    "- Synonyms: Randomization test, random permutation test, exact test\n",
    "\n",
    "Resampling\n",
    "- Drawing additional samples (\"resamples\") from an observed data set\n",
    "\n",
    "With or without replacement\n",
    "- In sampling, whether or not an item is returned to the sample before the next draw"
   ]
  },
  {
   "cell_type": "markdown",
   "id": "dac0eaba",
   "metadata": {},
   "source": [
    "**Permutation Test**\n",
    "\n",
    "- Permutation procedures involve two or more samples, typically the groups in an A/B or other hypothesis test\n",
    "- Permute means to change the order of a set of values\n",
    "\n",
    "The first step in a permutation test of a hypothesis is to combine the results from groups A and B (and, if used, C, D). The logic here is that the treatments to which the groups were exposed do not differ. We then test that hypothesis by randomly drawing groups from this combined set and seeing how much they differ from one another. \n",
    "\n",
    "The permutation procedure is as follows:\n",
    "1. Combine the results from the different groups into a single data set\n",
    "2. Shuffle the combined data, randomly draw (without replacement) a sample of the same size as group A (clearly it will contain some data from the other groups)\n",
    "3. From the remaining data, randomly draw (without replacement) a resample of the same size as group B\n",
    "4. Do the same for groups C, D, and so on. You have now collected one set of resamples that mirror the sizes of the original samples.\n",
    "5. Whatever statistic or estimate was calculated for the original samples (e.g., difference in group proportions), calculate it now for the resamples, and record; this constitutes one permutation iteration.\n",
    "6. Repeat the previous steps $R$ times to yield a permutation distribution of the test statistic.\n",
    "\n",
    "Now look at the observed difference between groups and compare it to the set of permuted differences. If the observed difference lies well within the set of permuted differences, then you have not proven anything - the observed difference is within the range of what chance might produce. However, if the observed difference lies outside most of the permutation distribution, then we conclude that chance is *not* responsible. In other words, the difference is *statistically significant*. "
   ]
  },
  {
   "cell_type": "code",
   "execution_count": 3,
   "id": "87ca8528",
   "metadata": {},
   "outputs": [],
   "source": [
    "# Import required packages\n",
    "from pathlib import Path\n",
    "import random\n",
    "\n",
    "import pandas as pd\n",
    "import numpy as np\n",
    "\n",
    "from scipy import stats\n",
    "import statsmodels.api as sm\n",
    "import statsmodels.formula.api as smf\n",
    "from statsmodels.stats import power\n",
    "\n",
    "import matplotlib.pylab as plt"
   ]
  },
  {
   "cell_type": "code",
   "execution_count": 14,
   "id": "747942f0",
   "metadata": {},
   "outputs": [],
   "source": [
    "WEB_PAGE_DATA_CSV = '/Users/brian.v.nguyen/projects/practical_statistics_for_data_scientists/data/web_page_data.csv'\n",
    "FOUR_SESSIONS_CSV = '/Users/brian.v.nguyen/projects/practical_statistics_for_data_scientists/data/four_sessions.csv'\n",
    "CLICK_RATE_CSV = '/Users/brian.v.nguyen/projects/practical_statistics_for_data_scientists/data/click_rates.csv'\n",
    "IMANISHI_CSV = '/Users/brian.v.nguyen/projects/practical_statistics_for_data_scientists/data/imanishi_data.csv'"
   ]
  },
  {
   "cell_type": "code",
   "execution_count": 19,
   "id": "eee99964",
   "metadata": {},
   "outputs": [],
   "source": [
    "session_times = pd.read_csv(WEB_PAGE_DATA_CSV)\n",
    "session_times.Time = 100 * session_times.Time"
   ]
  },
  {
   "cell_type": "code",
   "execution_count": 21,
   "id": "4ab93ce4",
   "metadata": {},
   "outputs": [
    {
     "data": {
      "image/png": "[encoded data removed]",
      "text/plain": [
       "<Figure size 400x400 with 1 Axes>"
      ]
     },
     "metadata": {},
     "output_type": "display_data"
    }
   ],
   "source": [
    "ax = session_times.boxplot(by='Page', column='Time',\n",
    "                           figsize=(4,4))\n",
    "ax.set_xlabel('')\n",
    "ax.set_ylabel('Time (in seconds)')\n",
    "plt.suptitle('')\n",
    "\n",
    "plt.tight_layout()\n",
    "plt.show()"
   ]
  },
  {
   "cell_type": "markdown",
   "id": "e9088fef",
   "metadata": {},
   "source": [
    ">The boxplot indicates that page B leads to longer sessions than page A."
   ]
  },
  {
   "cell_type": "markdown",
   "id": "d954c4d9",
   "metadata": {},
   "source": [
    "Next, we'll filter the pandas data frame first by page and then determine the mean of the Time column:"
   ]
  },
  {
   "cell_type": "code",
   "execution_count": 28,
   "id": "a9d911c6",
   "metadata": {},
   "outputs": [
    {
     "name": "stdout",
     "output_type": "stream",
     "text": [
      "Page B mean: 162.0\n",
      "Page A mean: 126.33333333333333\n",
      "Difference in means: 35.66666666666667\n"
     ]
    }
   ],
   "source": [
    "mean_a = session_times[session_times.Page == 'Page A'].Time.mean()\n",
    "mean_b = session_times[session_times.Page == 'Page B'].Time.mean()\n",
    "print(f'Page B mean: {mean_b}')\n",
    "print(f'Page A mean: {mean_a}')\n",
    "print(f'Difference in means: {mean_b - mean_a}')"
   ]
  },
  {
   "cell_type": "markdown",
   "id": "fddd716e",
   "metadata": {},
   "source": [
    ">Page B has times that are greater than those of page A by 35.67 seconds, on average. The question is whether this difference is within the range of what random chance might produce, i.e., is statistically significant. One way to answer this is to apply a permutation test - combine all times together and then repeatedly shuffle and divide them into groups of 21 (recall that $na = 21$ for page A) and 15 ($nb = 15$ for page B)"
   ]
  },
  {
   "cell_type": "code",
   "execution_count": 40,
   "id": "8a4eda27",
   "metadata": {},
   "outputs": [
    {
     "name": "stdout",
     "output_type": "stream",
     "text": [
      "-19.876190476190487\n"
     ]
    }
   ],
   "source": [
    "# Permutation test example with stickiness\n",
    "def perm_fun(x, nA, nB):\n",
    "    n = nA + nB\n",
    "    idx_B = set(random.sample(range(n), nB))\n",
    "    idx_A = set(range(n)) - idx_B\n",
    "    return x.loc[list(idx_B)].mean() - x.loc[list(idx_A)].mean()\n",
    "    \n",
    "nA = session_times[session_times.Page == 'Page A'].shape[0]\n",
    "nB = session_times[session_times.Page == 'Page B'].shape[0]\n",
    "print(perm_fun(session_times.Time, nA, nB))"
   ]
  },
  {
   "cell_type": "code",
   "execution_count": 44,
   "id": "4b77349c",
   "metadata": {},
   "outputs": [
    {
     "data": {
      "image/png": "[encoded data removed]",
      "text/plain": [
       "<Figure size 500x500 with 1 Axes>"
      ]
     },
     "metadata": {},
     "output_type": "display_data"
    }
   ],
   "source": [
    "random.seed(1)\n",
    "perm_diffs = [perm_fun(session_times.Time, nA, nB) for _ in range(1000)]\n",
    "\n",
    "fig, ax = plt.subplots(figsize=(5, 5))\n",
    "ax.hist(perm_diffs, bins=11, rwidth=0.9)\n",
    "ax.axvline(x = mean_b - mean_a, color='black', lw=2)\n",
    "ax.text(50, 190, 'Observed\\ndifference', bbox={'facecolor':'white'})\n",
    "ax.set_xlabel('Session time differences (in seconds)')\n",
    "ax.set_ylabel('Frequency')\n",
    "\n",
    "plt.tight_layout()\n",
    "plt.show()"
   ]
  },
  {
   "cell_type": "markdown",
   "id": "009e80d5",
   "metadata": {},
   "source": [
    "The histogram shows that mean difference in random permutations often exceeds the observed difference in times (the vertical line). For our results, this happens in 12.1% of the cases:"
   ]
  },
  {
   "cell_type": "code",
   "execution_count": 51,
   "id": "e01ffc68",
   "metadata": {},
   "outputs": [
    {
     "name": "stdout",
     "output_type": "stream",
     "text": [
      "0.121\n"
     ]
    }
   ],
   "source": [
    "# convert perm_diffs to numpy array to avoid problems with some Python installations\n",
    "perm_diffs = np.array(perm_diffs)\n",
    "print(np.mean(perm_diffs > mean_b - mean_a))"
   ]
  },
  {
   "cell_type": "markdown",
   "id": "76de1e62",
   "metadata": {},
   "source": [
    "This suggests that the observed differnce in time between page A and page B is well within the range of chance variation and thus is not statistically significant."
   ]
  },
  {
   "cell_type": "markdown",
   "id": "6020d6cb",
   "metadata": {},
   "source": [
    "**Exhaustive and Bootstrap Permutation Tests**\n",
    "\n",
    "In addition to the preceding random shuffling procedure, there are two variants of the permutation test:\n",
    "- an exhaustive permutation test\n",
    "- A bootstrap permutation test\n",
    "\n",
    "**Exhaustive Permutation Test**\n",
    "\n",
    "Instead of randomly shuffling and dividing the data, we figure out all the possible ways it could be divided. This is practical only for relatively small sample sizes. With a large number of repeated shufflings, the random permutation test results are also sometimes called *exact tests*, due to their statistical property of guaranteeing that the null model will not test as \"significant\" more than the alpha level of the test.\n",
    "\n",
    "**Bootstrap Permutation Test**\n",
    "\n",
    "In a bootstrap permutation test, the draws outlined in steps 2 and 3 of the random permutation test are made *with replacement* instead of without replacement. This way the resampling procedure models not just the random element in the assignment of treatment to subject but also the random element in the selection of subjects from a population. \n",
    "\n",
    "**Bottom Line**\n",
    "\n",
    "Permutation tests are easy to code, interpret, and explain. They come much closer to a one-size-fits-all approach to inference. Data can be numeric or binary. Sample sizes can be the same or different. Assumptions about normally distributed data are not needed."
   ]
  },
  {
   "cell_type": "markdown",
   "id": "0d683606",
   "metadata": {},
   "source": [
    "**Key Ideas**\n",
    "- In a permutation test, multiple samples are combined and then shuffled.\n",
    "- The shuffled values are then divided into resamples, and the statistic of interest is calculated.\n",
    "- This process is then repeated, and the resampled statistic is tabulated.\n",
    "- Comparing the observed value of the statistic to the resampled distribution allows you to judge whether an observed difference between samples might occur by chance."
   ]
  },
  {
   "cell_type": "markdown",
   "id": "435c52c4",
   "metadata": {},
   "source": [
    "## Statistical significance and p-Values"
   ]
  },
  {
   "cell_type": "markdown",
   "id": "2f959271",
   "metadata": {},
   "source": [
    "Statistical significance is how we measure whether an experiment (or even a study of existing data) yields a result more extreme than what chance might produce. If the result is beyond the realm of chance, it is said to be statistically significant."
   ]
  },
  {
   "cell_type": "markdown",
   "id": "46d71aac",
   "metadata": {},
   "source": [
    "**Key Terms for Statistical Significance and P-Values**\n",
    "\n",
    "p-value\n",
    "- Given a chance model that embodies the null hypothesis, the p-value is the probability of obtaining results as unusual or extreme as the observed results.\n",
    "\n",
    "Alpha\n",
    "- The probability threshold of \"unusualness\" that chance results must surpass for actual outcomes to be deemed statistically significant.\n",
    "\n",
    "Type 1 error\n",
    "- Mistakenly concluding an effect is real (when it is due to chance)\n",
    "\n",
    "Type 2 error \n",
    "- Mistakenly concluding an effect is due to chance (when it is real)"
   ]
  },
  {
   "cell_type": "markdown",
   "id": "6090af71",
   "metadata": {},
   "source": [
    "**Let's consider the following results of an ecommerce experiment:** \n",
    "- Price A had 200 conversions and 23,539 non-conversions\n",
    "- Price B had 182 conversions and 22,406 non-conversions\n",
    "\n",
    "Price A converts almost 5% better than price B (0.8425% = 200 / (23539 + 200)*100, versus 0.8057% = 182 / (22406 + 182)*100 -> a difference of 0.0368 percentage points), big enough to be meaningful in a high-volume business. However, the conversion rates are so low (less than 1%). We can test whether the difference in conversions between prices A and B is within the range of *chance variation*, using a resampling procedure. By chance variation, we mean the random variation produced by a probability model that embodies the null hypothesis that there is no difference between the rates. \n",
    "\n",
    "The following permutation procedure asks, \"If the two prices share the same conversion rate, could chance variation produce a difference as big as 5%?\"\n",
    "1. Put cards labeled 1 and 0 in a box: this represents the supposed shared conversion rate of 382 ones and 23,945 zeroes = 0.008246 = 0.8246%.\n",
    "2. Shuffle and draw out a resample of size 23,739 (same $n$ as price A), and record how many 1s.\n",
    "3. Record the number of 1s in the remaining 22,588 (same $n$ as price B).\n",
    "4. Record the difference in proportion of 1s.\n",
    "5. Repeat steps 2 - 4.\n",
    "6. How often was the difference >= 0.0368?\n",
    "\n",
    "We'll re-use the function `perm_fun` defined in the previous code block:"
   ]
  },
  {
   "cell_type": "code",
   "execution_count": 55,
   "id": "5da3c812",
   "metadata": {},
   "outputs": [
    {
     "name": "stdout",
     "output_type": "stream",
     "text": [
      "Observed difference: 0.0368%\n"
     ]
    },
    {
     "data": {
      "image/png": "[encoded data removed]",
      "text/plain": [
       "<Figure size 500x500 with 1 Axes>"
      ]
     },
     "metadata": {},
     "output_type": "display_data"
    }
   ],
   "source": [
    "random.seed(1)\n",
    "obs_pct_diff = 100 * (200 / 23739 - 182 / 22588)\n",
    "print(f'Observed difference: {obs_pct_diff:.4f}%')\n",
    "conversion = [0] * 45945\n",
    "conversion.extend([1] * 382)\n",
    "conversion = pd.Series(conversion)\n",
    "\n",
    "perm_diffs = [100 * perm_fun(conversion, 23739, 22588) \n",
    "              for _ in range(1000)]\n",
    "\n",
    "fig, ax = plt.subplots(figsize=(5, 5))\n",
    "ax.hist(perm_diffs, bins=11, rwidth=0.9)\n",
    "ax.axvline(x=obs_pct_diff, color='black', lw=2)\n",
    "ax.text(0.06, 200, 'Observed\\ndifference', bbox={'facecolor':'white'})\n",
    "ax.set_xlabel('Conversion rate (percent)')\n",
    "ax.set_ylabel('Frequency')\n",
    "\n",
    "plt.tight_layout()\n",
    "plt.show()"
   ]
  },
  {
   "cell_type": "markdown",
   "id": "e2ea5d58",
   "metadata": {},
   "source": [
    ">This histogram of 1,000 resampled results shows the observed difference of 0.0368% is well within the range of chance variation."
   ]
  },
  {
   "cell_type": "markdown",
   "id": "b89421c6",
   "metadata": {},
   "source": [
    "## P-Value"
   ]
  },
  {
   "cell_type": "markdown",
   "id": "4b91bebb",
   "metadata": {},
   "source": [
    "Simply looking at a graph isn't very precise way to measure statistical significance, so let's look at the *p-value*. The p-value is the frequency the chance model produces a result more extreme than the observed result. We estimate a p-value from our permutation test by taking the proportion of times that the permutation test produces a difference equal to or greater than the observed difference:"
   ]
  },
  {
   "cell_type": "code",
   "execution_count": 57,
   "id": "9976c924",
   "metadata": {},
   "outputs": [
    {
     "name": "stdout",
     "output_type": "stream",
     "text": [
      "0.332\n"
     ]
    }
   ],
   "source": [
    "print(np.mean([diff > obs_pct_diff for diff in perm_diffs]))"
   ]
  },
  {
   "cell_type": "markdown",
   "id": "e10ebfdf",
   "metadata": {},
   "source": [
    "To interpret this, we use 1 as true and 0 as false. \n",
    "\n",
    "The p-value is 0.332, which means that we would expect to achieve a result as extreme as this, or a more extreme result, by random chance over 33% of the time.\n",
    "\n",
    "In this case, we didn't need to use a permutation test to get a p-value. Since we have a binomial distribution, we can estimate the p-value by doing the following:"
   ]
  },
  {
   "cell_type": "code",
   "execution_count": 58,
   "id": "2a8342db",
   "metadata": {},
   "outputs": [
    {
     "name": "stdout",
     "output_type": "stream",
     "text": [
      "p-value for single sided test: 0.3498\n"
     ]
    }
   ],
   "source": [
    "survivors = np.array([\n",
    "    [200, 23739 - 200], \n",
    "    [182, 22588 - 182]\n",
    "    ])\n",
    "\n",
    "chi2, p_value, df, _ = stats.chi2_contingency(survivors)\n",
    "\n",
    "print(f'p-value for single sided test: {p_value / 2:.4f}')"
   ]
  },
  {
   "cell_type": "markdown",
   "id": "1af3d973",
   "metadata": {},
   "source": [
    ">The normal estimate yields a p-value of 0.3498, which is close to the p-value obtained from the permutation test."
   ]
  },
  {
   "cell_type": "markdown",
   "id": "86c1ac0a",
   "metadata": {},
   "source": [
    "## Alpha"
   ]
  },
  {
   "cell_type": "markdown",
   "id": "f56e9fda",
   "metadata": {},
   "source": [
    "Alpha\n",
    "- The threshold determined in advance by the researcher\n",
    "- Ex: \"more extreme than 5% of the chance (null hypothesis) results\"\n",
    "- Typical alpha levels are 5% and 1%\n",
    "- The correct way to say it is, \"Given a chance model, what is the probability of a result this extreme?\""
   ]
  },
  {
   "cell_type": "markdown",
   "id": "c9c717e3",
   "metadata": {},
   "source": [
    "**How to explain p-value**\n",
    "\n",
    "Correct\n",
    "- \"The probability that, *given a chance model*, results as extreme as the observed results could occur.\"\n",
    "\n",
    "Incorrect\n",
    "- \"The probability that the result is due to chance.\"\n",
    "\n",
    "The difference is subtle, but real. A significant p-value does not carry you quite as far along the road to \"proof\" as it seems to promise. The logical foundation for the conclusion \"statistically significant\" is somewhat weaker when the real meaning of the p-value is understood.\n",
    "\n",
    "**American Statistical Association (ASA) Six Principles on P-Value**\n",
    "1. P-values can indicate how incompatible the data are with a specified statistical model.\n",
    "2. P-values do not measure the probability that the studied hypothesis is true, or the probability that the data were produced by random chance alone.\n",
    "3. Scientific conclusions and business or policy decisions should not be based only on whether a p-value passes a specific threshold.\n",
    "4. Proper inference requires full reporting and transparency.\n",
    "5. A p-value, or statistical significance, does not measure the size of an effect or the importance of a result.\n",
    "6. By itself, a p-value does not provide a good measure of evidence regarding a model or hypothesis.\n",
    "\n",
    "**Practical Significance**\n",
    "- Even if a result is statistically significant, doesn't mean it's practical"
   ]
  },
  {
   "cell_type": "markdown",
   "id": "c2963103",
   "metadata": {},
   "source": [
    "**Type 1 & Type 2 Errors**\n",
    "\n",
    "When assessing statistical significance, two types of error are possible:\n",
    "- Type 1 Error, where you mistakenly conclude an effect is real, when it is really just due to chance\n",
    "- Type 2 Error, where you mistakenly conclude the effect is not real (i.e. due to chance), when it actually is real\n",
    "\n",
    "One thing to note is that a Type 2 error may arise from the sample size being too small to detect the effect. When a p-value falls short of statistical significance (e.g., it exceeds 5%), what we're really saying is \"effect not proven\". It could be that a larger sample would yield a smaller p-value.\n",
    "\n",
    "The basic function of significance tests (also called *hypothesis tests*) is to protect against being fooled by random chance; thus they are typically structured to minimize Type 1 errors."
   ]
  },
  {
   "cell_type": "markdown",
   "id": "f5320f60",
   "metadata": {},
   "source": [
    "**Using P-Values in Data Science**\n",
    "\n",
    "`Data scientists should use the p-value merely as another point of information bearing on a decision - it should not be the deciding factor.`\n",
    "\n",
    "For example, p-values are sometimes used as intermediate inputs in some statistical or machine learning models - a feature might be included in or excluded from a model depending on its p-value."
   ]
  },
  {
   "cell_type": "markdown",
   "id": "a725d124",
   "metadata": {},
   "source": [
    "**Key Ideas**\n",
    "- Significance tests are used to determine whether an observed effect is within the range of chance variation for a null hypothesis model.\n",
    "- The p-value is the probability that results as extreme as the observed results might occur, given a null hypothesis model.\n",
    "- The alpha value is the threshold of \"unusualness\" in a null hypothesis chance model.\n",
    "- Significance testing has been much more relevant for formal reporting of research than for data science (but has been fading recently, even for the former)."
   ]
  },
  {
   "cell_type": "markdown",
   "id": "0b0971dc",
   "metadata": {},
   "source": [
    "## t-Tests"
   ]
  },
  {
   "cell_type": "markdown",
   "id": "f62037ae",
   "metadata": {},
   "source": [
    "There are many different types of significance tests depending on whether the data comprises of count data or measured data, how many samples there are, and what's being measured.\n",
    "\n",
    "A very common one is the *t-test*, named after Student's t-distribution."
   ]
  },
  {
   "cell_type": "markdown",
   "id": "fed552c9",
   "metadata": {},
   "source": [
    "**Key Terms for T-Tests**\n",
    "\n",
    "Test statistic\n",
    "- A metric for the difference or effect of interest\n",
    "\n",
    "t-statistic\n",
    "- A standardized version of common test statistics such as means\n",
    "\n",
    "t-distribution\n",
    "- A reference distribution (in this case derived from the null hypothesis), to which the observed t-statistic can be compared."
   ]
  },
  {
   "cell_type": "markdown",
   "id": "86fd99a8",
   "metadata": {},
   "source": [
    "**When to use a t-test**\n",
    "- when dealing with large sample sizes and \n",
    "- when the data is known to be normally distributed\n",
    "- good approximation to the permutation distribution\n",
    "- very common for two-sample comparisons, where data is numeric\n",
    "- requires the t-statistic"
   ]
  },
  {
   "cell_type": "code",
   "execution_count": 59,
   "id": "1097dc64",
   "metadata": {},
   "outputs": [
    {
     "name": "stdout",
     "output_type": "stream",
     "text": [
      "p-value for single sided test: 0.1408\n"
     ]
    }
   ],
   "source": [
    "res = stats.ttest_ind(\n",
    "    session_times[session_times.Page == 'Page A'].Time, \n",
    "    session_times[session_times.Page == 'Page B'].Time, \n",
    "    equal_var=False\n",
    "    )\n",
    "print(f'p-value for single sided test: {res.pvalue / 2:.4f}')"
   ]
  },
  {
   "cell_type": "markdown",
   "id": "932569d7",
   "metadata": {},
   "source": [
    ">The alternative hypothesis is that the page time mean for page A is less than that for page B. The p-value for 0.1408 is fairly close to the permutation test p-values of 0.121 and 0.126."
   ]
  },
  {
   "cell_type": "markdown",
   "id": "43886f5d",
   "metadata": {},
   "source": [
    "**Key Ideas**\n",
    "- Before the advent of computers, resampling tests were not practical, and statisticians used standard reference distributions.\n",
    "- A test statistic could then be standardized and compared to the reference distribution.\n",
    "- One such widely used standardized statistic is the t-statistic."
   ]
  },
  {
   "cell_type": "markdown",
   "id": "2b5a3d57",
   "metadata": {},
   "source": [
    "## Multiple Testing"
   ]
  },
  {
   "cell_type": "markdown",
   "id": "6f6d99ce",
   "metadata": {},
   "source": [
    "**\"Torture the data long enough, and it will confess.\"**\n",
    "- This means if you look at the data through enough different perspectives and ask enough questions, you almost invariably will find a statistically significant effect.\n",
    "\n",
    "For example,\n",
    "- If you have 20 predictor variables and one outcome variable, all randomly generated, the odds are prety good that at least one predictor will (falsely) turn out to be statistically significant if you do a series of 20 significance tests at the alpha = 0.05 level. As previously discussed, this is called a *Type 1 error*. \n",
    "    - 0.95 probability is that one will correctly test insignificant\n",
    "    - 20 variables\n",
    "    - 0.95 * 0.95..., or 0.95^20 = 0.36\n",
    "    - The probability that at least one predictor will (falsely) test significant is the opposite, or 1 - 0.36 = 0.64\n",
    "    - This is called *alpha inflation*\n",
    "\n",
    "**Overfitting the model**\n",
    "This issue is related to overfitting in data mining, or \"fitting the model to the noise\". The more variables you add, or the more models you run, the greater the probability that something will emerge as \"significant\" just by chance.\n",
    "- Having a holdout set mitigates this risk\n",
    "- No holdout set leaves the problem to persist\n",
    "\n",
    "**Possible Solutions to overfitting**\n",
    "- Asking multiple questions when comparing across multiple treatment groups\n",
    "    - Is A different from B?\n",
    "    - Is B different from C?\n",
    "    - Is A different from C?\n",
    "- Looking at results at multiple stages\n",
    "- Adjustment procedures (dividing the alpha by the number of tests)\n",
    "    - Bonferroni adjustment -> divides the alpha by the number of comparisons\n",
    "    - Tukey's \"honest significant difference\", or Tueky's HSD -> applies to the max difference among group means, comparing it to the benchmark based on the t-distribution (roughly equivalent to a permutation test and finding the maximum difference among the resampled group means)"
   ]
  },
  {
   "cell_type": "markdown",
   "id": "d64cc5d4",
   "metadata": {},
   "source": [
    "**Key Ideas**\n",
    "- Multiplicity in a research study or data mining project (multiple comparisons, many variables, many models, etc.) increases the risk of concludign that something is significant just by chance.\n",
    "- For situations involving multiple statistical comparisons (i.e., multiple tests of significance), there are statistical adjustment procedures\n",
    "- In a data mining situation, use of a holdout sample with labeled outcome variables can help avoid misleading results."
   ]
  },
  {
   "cell_type": "markdown",
   "id": "f91d864b",
   "metadata": {},
   "source": [
    "## Degrees of Freedom"
   ]
  },
  {
   "cell_type": "markdown",
   "id": "f3e78656",
   "metadata": {},
   "source": [
    "**Key Terms for Degrees of Freedom**\n",
    "\n",
    "n or sample size\n",
    "- The number of observations (also called rows or records) in the data\n",
    "\n",
    "d.f.\n",
    "- Degrees of freedom"
   ]
  },
  {
   "cell_type": "markdown",
   "id": "f9075f5d",
   "metadata": {},
   "source": [
    "Degrees of Freedom is the number of values free to vary in a sampled data set. The number of degrees of freedom is an input to many statistical tests --> $n - 1$ denominator seen in calculations for variance and standard deviation. This is because when you use a sample to estimate the variance for a population, you end up with an estimate that is slightly biased downward if you use $n$ in the denominator. Using $n - 1$ makes the estimate free of that bias."
   ]
  },
  {
   "cell_type": "markdown",
   "id": "23490bd9",
   "metadata": {},
   "source": [
    "In traditional statistics, sample statistics are standardized and the degrees of freedom is part of the calculation to ensure the standardized data matches the appropriate reference distribution (t-distribution, F-distribution, etc.). Is this important for data science? Not really, since formal statistical tests are used sparingly in data science. And the data size is usually large enough that it rarely makes a real difference for a data scientist whether, for example, the denominator has n or n - 1 (As n gets large, the bias would come from using n in the denominator disappears).\n",
    "- Though it's very relevant in regressions"
   ]
  },
  {
   "cell_type": "markdown",
   "id": "9d5dab2e",
   "metadata": {},
   "source": [
    "**Key Ideas**\n",
    "- The number of degrees of freedom (d.f.) forms part of the calculations to standardize test statistics so they can be compared to reference distritutions (t-distribution, F-distribution, etc.).\n",
    "- The concept of degrees of freedom lies behind the factoring of categorical variables into $n - 1$ indicator or dummy variables when doing a regression (to avoid multicollinearity)."
   ]
  },
  {
   "cell_type": "markdown",
   "id": "7fab842f",
   "metadata": {},
   "source": [
    "## ANOVA"
   ]
  },
  {
   "cell_type": "markdown",
   "id": "8944b3ff",
   "metadata": {},
   "source": [
    "The statistical procedure that tests for a statistically significant difference among the groups is called *analysis of variance*, or ANOVA."
   ]
  }
 ],
 "metadata": {
  "kernelspec": {
   "display_name": ".venv",
   "language": "python",
   "name": "python3"
  },
  "language_info": {
   "codemirror_mode": {
    "name": "ipython",
    "version": 3
   },
   "file_extension": ".py",
   "mimetype": "text/x-python",
   "name": "python",
   "nbconvert_exporter": "python",
   "pygments_lexer": "ipython3",
   "version": "3.13.2"
  }
 },
 "nbformat": 4,
 "nbformat_minor": 5
}
