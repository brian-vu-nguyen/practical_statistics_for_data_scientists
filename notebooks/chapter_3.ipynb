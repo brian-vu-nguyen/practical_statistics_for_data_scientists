{
 "cells": [
  {
   "cell_type": "markdown",
   "id": "ca54b003",
   "metadata": {},
   "source": [
    "# Chapter 3: Statistical Experiments and Significance Testing"
   ]
  },
  {
   "cell_type": "markdown",
   "id": "28796645",
   "metadata": {},
   "source": [
    "`This chapter focuses on designing experiments to confirm or reject a hypothesis.`"
   ]
  },
  {
   "cell_type": "markdown",
   "id": "e3b4ccfc",
   "metadata": {},
   "source": [
    "Statistical inference is the intention of applying statistical results from an experiment, with a limited set of data, to a larger population or process.\n",
    "\n",
    "Below is the classical statistical inference pipeline:\n",
    "\n",
    "1. Formulate hypothesis\n",
    "2. Design experiment\n",
    "3. Collect data\n",
    "4. Inference/conclusions"
   ]
  },
  {
   "cell_type": "markdown",
   "id": "10b95474",
   "metadata": {},
   "source": [
    "## A/B Testing"
   ]
  },
  {
   "cell_type": "markdown",
   "id": "2a6ab8f3",
   "metadata": {},
   "source": [
    "An A/B test is an experiment with two groups to establish which of two treatments, products, procedures, or the like is superior. One group is often the pre-existing group, or control group, while the other is the treatment group. A typical hypothesis is that a new treatment is better than the control."
   ]
  },
  {
   "cell_type": "markdown",
   "id": "b5c545e1",
   "metadata": {},
   "source": [
    "**Key Terms for A/B Testing**\n",
    "\n",
    "Treatment\n",
    "- something (drug, price, web headline) to which a subject is exposed\n",
    "\n",
    "Treatment group\n",
    "- A group of subjects exposed to a specific treatment\n",
    "\n",
    "Control group\n",
    "- A group of subjects exposed to no (or standard) treatment\n",
    "\n",
    "Randomization\n",
    "- The process of randomly assigning subjects to treatments\n",
    "\n",
    "Subjects\n",
    "- The items (web visitors, patients, etc.) that are exposed to treatments\n",
    "\n",
    "Test statistic\n",
    "- The metric used to measure the effect of the treatment"
   ]
  },
  {
   "cell_type": "markdown",
   "id": "40d95ecd",
   "metadata": {},
   "source": [
    "**Key Ideas**\n",
    "- Identifying the correct way to hypothesize what you're testing\n",
    "- Identify your subjects and success metric ahead of time\n",
    "- Make sure you randomize subjects\n",
    "- Make sure you receive permission from human subjects if the experiment has moral and ethical components"
   ]
  },
  {
   "cell_type": "markdown",
   "id": "5e761f8f",
   "metadata": {},
   "source": [
    "## Hypothesis Tests"
   ]
  },
  {
   "cell_type": "markdown",
   "id": "958c9dfb",
   "metadata": {},
   "source": [
    "Hypothesis tests, or *significance tests*, help you learn whether random chance might be responsible for an observed effect."
   ]
  },
  {
   "cell_type": "markdown",
   "id": "af46fdef",
   "metadata": {},
   "source": [
    "**Key Terms for Hypothesis Tests**\n",
    "\n",
    "Null hypothesis\n",
    "- The hypothesis that chance is to blame\n",
    "\n",
    "Alternative hypothesis\n",
    "- Counterpoint to the null (what you hope to prove)\n",
    "\n",
    "One-way test\n",
    "- Hypothesis test that counts chance results only in one direction\n",
    "\n",
    "Two-way test\n",
    "- Hypothesis test that counts chance results in two directions"
   ]
  },
  {
   "cell_type": "markdown",
   "id": "ce527a92",
   "metadata": {},
   "source": [
    "**Key Ideas**\n",
    "- Statistical hypothesis testing was invented to protect researchers from being fooled by random chance. \n",
    "- Properly designed A/B tests will have an observed difference between A and B must be due to either:\n",
    "    1. Random chance in assignment of subjects\n",
    "    2. A true difference between A and B"
   ]
  },
  {
   "cell_type": "markdown",
   "id": "da716ac4",
   "metadata": {},
   "source": [
    "**Null Hypothesis**\n",
    "\n",
    "Our baseline assumption is that the treatments are equivalent, and any difference between the groups is due to chance. This is called the *null hypothesis*. \n",
    "\n",
    "Our hope is to prove the null hypothesis is wrong and show that the outcomes for groups A and B are more different than what chance might produce.\n",
    "\n",
    "One way to do this is through a random sampling procedure, where we shuffle together the results from groups A and B and then repeatedly deal out the data in groups of similar sizes, then observe how often we get a difference as extreme as the observed difference. The combined shuffled results from groups A and B, and the procedure of resampling from them, holds the null hypothesis of groups A and B being equivalent and interchangeable and is termed the *null model*. "
   ]
  },
  {
   "cell_type": "markdown",
   "id": "45169bbc",
   "metadata": {},
   "source": [
    "**Alternative Hypothesis**\n",
    "\n",
    "Hypothesis tests also have an alternative hypothesis, which is the opposite of the null hypothesis. Together, the null and alternative hypotheses must account for all possibilities. \n",
    "\n",
    "Examples:\n",
    "- Null = \"no difference between the means of group A and group B; Alternative = \"A is different from B\" (could be bigger or smaller)\n",
    "- Null = A < B; Alternative = A > B\n",
    "- Null = \"B is not X% greater than A; Alternative = \"B is X% greater than A\""
   ]
  },
  {
   "cell_type": "markdown",
   "id": "47224027",
   "metadata": {},
   "source": [
    "**One-Way versus Two-Way Hypothesis Tests**\n",
    "\n",
    "*One-Way Test*\n",
    "\n",
    "You want to have a *directional* alternative hypothesis where extreme chance results are only in one direction that count toward the p-value. This is called a one-way (or one-tail) hypothesis test. This protects you from being fooled by chance in the other direction, because you won't be stickign with A unless B proves definitively better.\n",
    "\n",
    "*Two-Way Test*\n",
    "\n",
    "Two-way tests will protect you from being fooled by chance in either direction, where the alternative hypothesis is *bidirectional*. This means that extreme chance results in either direction count toward the p-value."
   ]
  },
  {
   "cell_type": "markdown",
   "id": "e4794fe8",
   "metadata": {},
   "source": [
    "*Practically...*\n",
    "\n",
    "A one-tail hypothesis test often fits the nature of A/B decision making. A decision is required, one option is the default ground truth unless the other option proves better."
   ]
  },
  {
   "cell_type": "markdown",
   "id": "27624528",
   "metadata": {},
   "source": [
    "**Key Ideas**\n",
    "- A null hypothesis is a logical construct embodying the notion that nothing special happened, and any effect you observe is due to random chance.\n",
    "- The hypothesis test assumes the null hypothesis is true, creates a \"null model\" (a probability model), and tests whether the effect you observe is a reasonable outcome of that model."
   ]
  },
  {
   "cell_type": "markdown",
   "id": "0a97797d",
   "metadata": {},
   "source": [
    "## Resampling"
   ]
  },
  {
   "cell_type": "markdown",
   "id": "16c59ec1",
   "metadata": {},
   "source": [
    "Resampling means to repeatedly sample values from observed data, with a general goal of assessing random variability in a statistic. It can also be used to assess and improve teh accuracy of some machine-learning models (e.g., the predictions from decision tree models built on multiple bootstrapped data sets can be averaged in a process known as *bagging*)\n",
    "\n",
    "Two main resampling procedures:\n",
    "1. Bootstrap - used to assess the reliability of an estimate\n",
    "2. Permutation tests - used to test hypotheses, typically involving two or more groups"
   ]
  },
  {
   "cell_type": "markdown",
   "id": "12c0ca7a",
   "metadata": {},
   "source": [
    "**Key Terms for Resampling**\n",
    "\n",
    "Permutation test\n",
    "- The procedure of combining two or more samples together and randomly reallocating the observations to resamples\n",
    "- Synonyms: Randomization test, random permutation test, exact test\n",
    "\n",
    "Resampling\n",
    "- Drawing additional samples (\"resamples\") from an observed data set\n",
    "\n",
    "With or without replacement\n",
    "- In sampling, whether or not an item is returned to the sample before the next draw"
   ]
  },
  {
   "cell_type": "markdown",
   "id": "dac0eaba",
   "metadata": {},
   "source": [
    "**Permutation Test**\n",
    "\n",
    "- Permutation procedures involve two or more samples, typically the groups in an A/B or other hypothesis test\n",
    "- Permute means to change the order of a set of values\n",
    "\n",
    "The first step in a permutation test of a hypothesis is to combine the results from groups A and B (and, if used, C, D). The logic here is that the treatments to which the groups were exposed do not differ. We then test that hypothesis by randomly drawing groups from this combined set and seeing how much they differ from one another. \n",
    "\n",
    "The permutation procedure is as follows:\n",
    "1. Combine the results from the different groups into a single data set\n",
    "2. Shuffle the combined data, randomly draw (without replacement) a sample of the same size as group A (clearly it will contain some data from the other groups)\n",
    "3. From the remaining data, randomly draw (without replacement) a resample of the same size as group B\n",
    "4. Do the same for groups C, D, and so on. You have now collected one set of resamples that mirror the sizes of the original samples.\n",
    "5. Whatever statistic or estimate was calculated for the original samples (e.g., difference in group proportions), calculate it now for the resamples, and record; this constitutes one permutation iteration.\n",
    "6. Repeat the previous steps $R$ times to yield a permutation distribution of the test statistic.\n",
    "\n",
    "Now look at the observed difference between groups and compare it to the set of permuted differences. If the observed difference lies well within the set of permuted differences, then you have not proven anything - the observed difference is within the range of what chance might produce. However, if the observed difference lies outside most of the permutation distribution, then we conclude that chance is *not* responsible. In other words, the difference is *statistically significant*. "
   ]
  },
  {
   "cell_type": "code",
   "execution_count": 3,
   "id": "87ca8528",
   "metadata": {},
   "outputs": [],
   "source": [
    "# Import required packages\n",
    "from pathlib import Path\n",
    "import random\n",
    "\n",
    "import pandas as pd\n",
    "import numpy as np\n",
    "\n",
    "from scipy import stats\n",
    "import statsmodels.api as sm\n",
    "import statsmodels.formula.api as smf\n",
    "from statsmodels.stats import power\n",
    "\n",
    "import matplotlib.pylab as plt"
   ]
  },
  {
   "cell_type": "code",
   "execution_count": 14,
   "id": "747942f0",
   "metadata": {},
   "outputs": [],
   "source": [
    "WEB_PAGE_DATA_CSV = '/Users/brian.v.nguyen/projects/practical_statistics_for_data_scientists/data/web_page_data.csv'\n",
    "FOUR_SESSIONS_CSV = '/Users/brian.v.nguyen/projects/practical_statistics_for_data_scientists/data/four_sessions.csv'\n",
    "CLICK_RATE_CSV = '/Users/brian.v.nguyen/projects/practical_statistics_for_data_scientists/data/click_rates.csv'\n",
    "IMANISHI_CSV = '/Users/brian.v.nguyen/projects/practical_statistics_for_data_scientists/data/imanishi_data.csv'"
   ]
  },
  {
   "cell_type": "code",
   "execution_count": 19,
   "id": "eee99964",
   "metadata": {},
   "outputs": [],
   "source": [
    "session_times = pd.read_csv(WEB_PAGE_DATA_CSV)\n",
    "session_times.Time = 100 * session_times.Time"
   ]
  },
  {
   "cell_type": "code",
   "execution_count": 21,
   "id": "4ab93ce4",
   "metadata": {},
   "outputs": [
    {
     "data": {
      "image/png": "[encoded data removed]",
      "text/plain": [
       "<Figure size 400x400 with 1 Axes>"
      ]
     },
     "metadata": {},
     "output_type": "display_data"
    }
   ],
   "source": [
    "ax = session_times.boxplot(by='Page', column='Time',\n",
    "                           figsize=(4,4))\n",
    "ax.set_xlabel('')\n",
    "ax.set_ylabel('Time (in seconds)')\n",
    "plt.suptitle('')\n",
    "\n",
    "plt.tight_layout()\n",
    "plt.show()"
   ]
  },
  {
   "cell_type": "markdown",
   "id": "e9088fef",
   "metadata": {},
   "source": [
    ">The boxplot indicates that page B leads to longer sessions than page A."
   ]
  },
  {
   "cell_type": "markdown",
   "id": "d954c4d9",
   "metadata": {},
   "source": [
    "Next, we'll filter the pandas data frame first by page and then determine the mean of the Time column:"
   ]
  },
  {
   "cell_type": "code",
   "execution_count": 28,
   "id": "a9d911c6",
   "metadata": {},
   "outputs": [
    {
     "name": "stdout",
     "output_type": "stream",
     "text": [
      "Page B mean: 162.0\n",
      "Page A mean: 126.33333333333333\n",
      "Difference in means: 35.66666666666667\n"
     ]
    }
   ],
   "source": [
    "mean_a = session_times[session_times.Page == 'Page A'].Time.mean()\n",
    "mean_b = session_times[session_times.Page == 'Page B'].Time.mean()\n",
    "print(f'Page B mean: {mean_b}')\n",
    "print(f'Page A mean: {mean_a}')\n",
    "print(f'Difference in means: {mean_b - mean_a}')"
   ]
  },
  {
   "cell_type": "markdown",
   "id": "fddd716e",
   "metadata": {},
   "source": [
    ">Page B has times that are greater than those of page A by 35.67 seconds, on average. The question is whether this difference is within the range of what random chance might produce, i.e., is statistically significant. One way to answer this is to apply a permutation test - combine all times together and then repeatedly shuffle and divide them into groups of 21 (recall that $na = 21$ for page A) and 15 ($nb = 15$ for page B)"
   ]
  },
  {
   "cell_type": "code",
   "execution_count": 40,
   "id": "8a4eda27",
   "metadata": {},
   "outputs": [
    {
     "name": "stdout",
     "output_type": "stream",
     "text": [
      "-19.876190476190487\n"
     ]
    }
   ],
   "source": [
    "# Permutation test example with stickiness\n",
    "def perm_fun(x, nA, nB):\n",
    "    n = nA + nB\n",
    "    idx_B = set(random.sample(range(n), nB))\n",
    "    idx_A = set(range(n)) - idx_B\n",
    "    return x.loc[list(idx_B)].mean() - x.loc[list(idx_A)].mean()\n",
    "    \n",
    "nA = session_times[session_times.Page == 'Page A'].shape[0]\n",
    "nB = session_times[session_times.Page == 'Page B'].shape[0]\n",
    "print(perm_fun(session_times.Time, nA, nB))"
   ]
  },
  {
   "cell_type": "code",
   "execution_count": 44,
   "id": "4b77349c",
   "metadata": {},
   "outputs": [
    {
     "data": {
      "image/png": "[encoded data removed]",
      "text/plain": [
       "<Figure size 500x500 with 1 Axes>"
      ]
     },
     "metadata": {},
     "output_type": "display_data"
    }
   ],
   "source": [
    "random.seed(1)\n",
    "perm_diffs = [perm_fun(session_times.Time, nA, nB) for _ in range(1000)]\n",
    "\n",
    "fig, ax = plt.subplots(figsize=(5, 5))\n",
    "ax.hist(perm_diffs, bins=11, rwidth=0.9)\n",
    "ax.axvline(x = mean_b - mean_a, color='black', lw=2)\n",
    "ax.text(50, 190, 'Observed\\ndifference', bbox={'facecolor':'white'})\n",
    "ax.set_xlabel('Session time differences (in seconds)')\n",
    "ax.set_ylabel('Frequency')\n",
    "\n",
    "plt.tight_layout()\n",
    "plt.show()"
   ]
  },
  {
   "cell_type": "markdown",
   "id": "009e80d5",
   "metadata": {},
   "source": [
    "The histogram shows that mean difference in random permutations often exceeds the observed difference in times (the vertical line). For our results, this happens in 12.1% of the cases:"
   ]
  },
  {
   "cell_type": "code",
   "execution_count": 51,
   "id": "e01ffc68",
   "metadata": {},
   "outputs": [
    {
     "name": "stdout",
     "output_type": "stream",
     "text": [
      "0.121\n"
     ]
    }
   ],
   "source": [
    "# convert perm_diffs to numpy array to avoid problems with some Python installations\n",
    "perm_diffs = np.array(perm_diffs)\n",
    "print(np.mean(perm_diffs > mean_b - mean_a))"
   ]
  },
  {
   "cell_type": "markdown",
   "id": "76de1e62",
   "metadata": {},
   "source": [
    "This suggests that the observed differnce in time between page A and page B is well within the range of chance variation and thus is not statistically significant."
   ]
  },
  {
   "cell_type": "markdown",
   "id": "6020d6cb",
   "metadata": {},
   "source": [
    "**Exhaustive and Bootstrap Permutation Tests**\n",
    "\n",
    "In addition to the preceding random shuffling procedure, there are two variants of the permutation test:\n",
    "- an exhaustive permutation test\n",
    "- A bootstrap permutation test\n",
    "\n",
    "**Exhaustive Permutation Test**\n",
    "\n",
    "Instead of randomly shuffling and dividing the data, we figure out all the possible ways it could be divided. This is practical only for relatively small sample sizes. With a large number of repeated shufflings, the random permutation test results are also sometimes called *exact tests*, due to their statistical property of guaranteeing that the null model will not test as \"significant\" more than the alpha level of the test.\n",
    "\n",
    "**Bootstrap Permutation Test**\n",
    "\n",
    "In a bootstrap permutation test, the draws outlined in steps 2 and 3 of the random permutation test are made *with replacement* instead of without replacement. This way the resampling procedure models not just the random element in the assignment of treatment to subject but also the random element in the selection of subjects from a population. \n",
    "\n",
    "**Bottom Line**\n",
    "\n",
    "Permutation tests are easy to code, interpret, and explain. They come much closer to a one-size-fits-all approach to inference. Data can be numeric or binary. Sample sizes can be the same or different. Assumptions about normally distributed data are not needed."
   ]
  },
  {
   "cell_type": "markdown",
   "id": "0d683606",
   "metadata": {},
   "source": [
    "**Key Ideas**\n",
    "- In a permutation test, multiple samples are combined and then shuffled.\n",
    "- The shuffled values are then divided into resamples, and the statistic of interest is calculated.\n",
    "- This process is then repeated, and the resampled statistic is tabulated.\n",
    "- Comparing the observed value of the statistic to the resampled distribution allows you to judge whether an observed difference between samples might occur by chance."
   ]
  },
  {
   "cell_type": "markdown",
   "id": "435c52c4",
   "metadata": {},
   "source": [
    "## Statistical significance and p-Values"
   ]
  },
  {
   "cell_type": "markdown",
   "id": "2f959271",
   "metadata": {},
   "source": [
    "Statistical significance is how we measure whether an experiment (or even a study of existing data) yields a result more extreme than what chance might produce. If the result is beyond the realm of chance, it is said to be statistically significant."
   ]
  },
  {
   "cell_type": "markdown",
   "id": "46d71aac",
   "metadata": {},
   "source": [
    "**Key Terms for Statistical Significance and P-Values**\n",
    "\n",
    "p-value\n",
    "- Given a chance model that embodies the null hypothesis, the p-value is the probability of obtaining results as unusual or extreme as the observed results.\n",
    "\n",
    "Alpha\n",
    "- The probability threshold of \"unusualness\" that chance results must surpass for actual outcomes to be deemed statistically significant.\n",
    "\n",
    "Type 1 error\n",
    "- Mistakenly concluding an effect is real (when it is due to chance)\n",
    "\n",
    "Type 2 error \n",
    "- Mistakenly concluding an effect is due to chance (when it is real)"
   ]
  }
 ],
 "metadata": {
  "kernelspec": {
   "display_name": ".venv",
   "language": "python",
   "name": "python3"
  },
  "language_info": {
   "codemirror_mode": {
    "name": "ipython",
    "version": 3
   },
   "file_extension": ".py",
   "mimetype": "text/x-python",
   "name": "python",
   "nbconvert_exporter": "python",
   "pygments_lexer": "ipython3",
   "version": "3.13.2"
  }
 },
 "nbformat": 4,
 "nbformat_minor": 5
}
